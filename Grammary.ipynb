{
  "nbformat": 4,
  "nbformat_minor": 0,
  "metadata": {
    "colab": {
      "provenance": []
    },
    "kernelspec": {
      "name": "python3",
      "display_name": "Python 3"
    },
    "language_info": {
      "name": "python"
    },
    "widgets": {
      "application/vnd.jupyter.widget-state+json": {
        "3e64dc1b04564259985da0c55178f1c2": {
          "model_module": "@jupyter-widgets/controls",
          "model_name": "HBoxModel",
          "model_module_version": "1.5.0",
          "state": {
            "_dom_classes": [],
            "_model_module": "@jupyter-widgets/controls",
            "_model_module_version": "1.5.0",
            "_model_name": "HBoxModel",
            "_view_count": null,
            "_view_module": "@jupyter-widgets/controls",
            "_view_module_version": "1.5.0",
            "_view_name": "HBoxView",
            "box_style": "",
            "children": [
              "IPY_MODEL_ffaf4031e4854e65a6ea27a0a615e392",
              "IPY_MODEL_686df21421ca4f60a9a23c3cb02b8727",
              "IPY_MODEL_0d74dc88e18340b397c89671f1cd0896"
            ],
            "layout": "IPY_MODEL_1be96be00384499ba1290a059a238086"
          }
        },
        "ffaf4031e4854e65a6ea27a0a615e392": {
          "model_module": "@jupyter-widgets/controls",
          "model_name": "HTMLModel",
          "model_module_version": "1.5.0",
          "state": {
            "_dom_classes": [],
            "_model_module": "@jupyter-widgets/controls",
            "_model_module_version": "1.5.0",
            "_model_name": "HTMLModel",
            "_view_count": null,
            "_view_module": "@jupyter-widgets/controls",
            "_view_module_version": "1.5.0",
            "_view_name": "HTMLView",
            "description": "",
            "description_tooltip": null,
            "layout": "IPY_MODEL_99899be56b4246d6a42ef2e9462c2ede",
            "placeholder": "​",
            "style": "IPY_MODEL_5b18147480554ff4832cc584531ca6ec",
            "value": "tokenizer_config.json: 100%"
          }
        },
        "686df21421ca4f60a9a23c3cb02b8727": {
          "model_module": "@jupyter-widgets/controls",
          "model_name": "FloatProgressModel",
          "model_module_version": "1.5.0",
          "state": {
            "_dom_classes": [],
            "_model_module": "@jupyter-widgets/controls",
            "_model_module_version": "1.5.0",
            "_model_name": "FloatProgressModel",
            "_view_count": null,
            "_view_module": "@jupyter-widgets/controls",
            "_view_module_version": "1.5.0",
            "_view_name": "ProgressView",
            "bar_style": "success",
            "description": "",
            "description_tooltip": null,
            "layout": "IPY_MODEL_096dc00bb608439095305d7a1230d3a2",
            "max": 24,
            "min": 0,
            "orientation": "horizontal",
            "style": "IPY_MODEL_7cb6710eb6c94ab99fdc77c2c06ec324",
            "value": 24
          }
        },
        "0d74dc88e18340b397c89671f1cd0896": {
          "model_module": "@jupyter-widgets/controls",
          "model_name": "HTMLModel",
          "model_module_version": "1.5.0",
          "state": {
            "_dom_classes": [],
            "_model_module": "@jupyter-widgets/controls",
            "_model_module_version": "1.5.0",
            "_model_name": "HTMLModel",
            "_view_count": null,
            "_view_module": "@jupyter-widgets/controls",
            "_view_module_version": "1.5.0",
            "_view_name": "HTMLView",
            "description": "",
            "description_tooltip": null,
            "layout": "IPY_MODEL_0067cc382d26406dac5f96cae7f11ef0",
            "placeholder": "​",
            "style": "IPY_MODEL_5cf41eea79364de08a7b3b912d1c0777",
            "value": " 24.0/24.0 [00:00&lt;00:00, 752B/s]"
          }
        },
        "1be96be00384499ba1290a059a238086": {
          "model_module": "@jupyter-widgets/base",
          "model_name": "LayoutModel",
          "model_module_version": "1.2.0",
          "state": {
            "_model_module": "@jupyter-widgets/base",
            "_model_module_version": "1.2.0",
            "_model_name": "LayoutModel",
            "_view_count": null,
            "_view_module": "@jupyter-widgets/base",
            "_view_module_version": "1.2.0",
            "_view_name": "LayoutView",
            "align_content": null,
            "align_items": null,
            "align_self": null,
            "border": null,
            "bottom": null,
            "display": null,
            "flex": null,
            "flex_flow": null,
            "grid_area": null,
            "grid_auto_columns": null,
            "grid_auto_flow": null,
            "grid_auto_rows": null,
            "grid_column": null,
            "grid_gap": null,
            "grid_row": null,
            "grid_template_areas": null,
            "grid_template_columns": null,
            "grid_template_rows": null,
            "height": null,
            "justify_content": null,
            "justify_items": null,
            "left": null,
            "margin": null,
            "max_height": null,
            "max_width": null,
            "min_height": null,
            "min_width": null,
            "object_fit": null,
            "object_position": null,
            "order": null,
            "overflow": null,
            "overflow_x": null,
            "overflow_y": null,
            "padding": null,
            "right": null,
            "top": null,
            "visibility": null,
            "width": null
          }
        },
        "99899be56b4246d6a42ef2e9462c2ede": {
          "model_module": "@jupyter-widgets/base",
          "model_name": "LayoutModel",
          "model_module_version": "1.2.0",
          "state": {
            "_model_module": "@jupyter-widgets/base",
            "_model_module_version": "1.2.0",
            "_model_name": "LayoutModel",
            "_view_count": null,
            "_view_module": "@jupyter-widgets/base",
            "_view_module_version": "1.2.0",
            "_view_name": "LayoutView",
            "align_content": null,
            "align_items": null,
            "align_self": null,
            "border": null,
            "bottom": null,
            "display": null,
            "flex": null,
            "flex_flow": null,
            "grid_area": null,
            "grid_auto_columns": null,
            "grid_auto_flow": null,
            "grid_auto_rows": null,
            "grid_column": null,
            "grid_gap": null,
            "grid_row": null,
            "grid_template_areas": null,
            "grid_template_columns": null,
            "grid_template_rows": null,
            "height": null,
            "justify_content": null,
            "justify_items": null,
            "left": null,
            "margin": null,
            "max_height": null,
            "max_width": null,
            "min_height": null,
            "min_width": null,
            "object_fit": null,
            "object_position": null,
            "order": null,
            "overflow": null,
            "overflow_x": null,
            "overflow_y": null,
            "padding": null,
            "right": null,
            "top": null,
            "visibility": null,
            "width": null
          }
        },
        "5b18147480554ff4832cc584531ca6ec": {
          "model_module": "@jupyter-widgets/controls",
          "model_name": "DescriptionStyleModel",
          "model_module_version": "1.5.0",
          "state": {
            "_model_module": "@jupyter-widgets/controls",
            "_model_module_version": "1.5.0",
            "_model_name": "DescriptionStyleModel",
            "_view_count": null,
            "_view_module": "@jupyter-widgets/base",
            "_view_module_version": "1.2.0",
            "_view_name": "StyleView",
            "description_width": ""
          }
        },
        "096dc00bb608439095305d7a1230d3a2": {
          "model_module": "@jupyter-widgets/base",
          "model_name": "LayoutModel",
          "model_module_version": "1.2.0",
          "state": {
            "_model_module": "@jupyter-widgets/base",
            "_model_module_version": "1.2.0",
            "_model_name": "LayoutModel",
            "_view_count": null,
            "_view_module": "@jupyter-widgets/base",
            "_view_module_version": "1.2.0",
            "_view_name": "LayoutView",
            "align_content": null,
            "align_items": null,
            "align_self": null,
            "border": null,
            "bottom": null,
            "display": null,
            "flex": null,
            "flex_flow": null,
            "grid_area": null,
            "grid_auto_columns": null,
            "grid_auto_flow": null,
            "grid_auto_rows": null,
            "grid_column": null,
            "grid_gap": null,
            "grid_row": null,
            "grid_template_areas": null,
            "grid_template_columns": null,
            "grid_template_rows": null,
            "height": null,
            "justify_content": null,
            "justify_items": null,
            "left": null,
            "margin": null,
            "max_height": null,
            "max_width": null,
            "min_height": null,
            "min_width": null,
            "object_fit": null,
            "object_position": null,
            "order": null,
            "overflow": null,
            "overflow_x": null,
            "overflow_y": null,
            "padding": null,
            "right": null,
            "top": null,
            "visibility": null,
            "width": null
          }
        },
        "7cb6710eb6c94ab99fdc77c2c06ec324": {
          "model_module": "@jupyter-widgets/controls",
          "model_name": "ProgressStyleModel",
          "model_module_version": "1.5.0",
          "state": {
            "_model_module": "@jupyter-widgets/controls",
            "_model_module_version": "1.5.0",
            "_model_name": "ProgressStyleModel",
            "_view_count": null,
            "_view_module": "@jupyter-widgets/base",
            "_view_module_version": "1.2.0",
            "_view_name": "StyleView",
            "bar_color": null,
            "description_width": ""
          }
        },
        "0067cc382d26406dac5f96cae7f11ef0": {
          "model_module": "@jupyter-widgets/base",
          "model_name": "LayoutModel",
          "model_module_version": "1.2.0",
          "state": {
            "_model_module": "@jupyter-widgets/base",
            "_model_module_version": "1.2.0",
            "_model_name": "LayoutModel",
            "_view_count": null,
            "_view_module": "@jupyter-widgets/base",
            "_view_module_version": "1.2.0",
            "_view_name": "LayoutView",
            "align_content": null,
            "align_items": null,
            "align_self": null,
            "border": null,
            "bottom": null,
            "display": null,
            "flex": null,
            "flex_flow": null,
            "grid_area": null,
            "grid_auto_columns": null,
            "grid_auto_flow": null,
            "grid_auto_rows": null,
            "grid_column": null,
            "grid_gap": null,
            "grid_row": null,
            "grid_template_areas": null,
            "grid_template_columns": null,
            "grid_template_rows": null,
            "height": null,
            "justify_content": null,
            "justify_items": null,
            "left": null,
            "margin": null,
            "max_height": null,
            "max_width": null,
            "min_height": null,
            "min_width": null,
            "object_fit": null,
            "object_position": null,
            "order": null,
            "overflow": null,
            "overflow_x": null,
            "overflow_y": null,
            "padding": null,
            "right": null,
            "top": null,
            "visibility": null,
            "width": null
          }
        },
        "5cf41eea79364de08a7b3b912d1c0777": {
          "model_module": "@jupyter-widgets/controls",
          "model_name": "DescriptionStyleModel",
          "model_module_version": "1.5.0",
          "state": {
            "_model_module": "@jupyter-widgets/controls",
            "_model_module_version": "1.5.0",
            "_model_name": "DescriptionStyleModel",
            "_view_count": null,
            "_view_module": "@jupyter-widgets/base",
            "_view_module_version": "1.2.0",
            "_view_name": "StyleView",
            "description_width": ""
          }
        },
        "f2b2de30c61f4d49ae90387f6595fcf2": {
          "model_module": "@jupyter-widgets/controls",
          "model_name": "HBoxModel",
          "model_module_version": "1.5.0",
          "state": {
            "_dom_classes": [],
            "_model_module": "@jupyter-widgets/controls",
            "_model_module_version": "1.5.0",
            "_model_name": "HBoxModel",
            "_view_count": null,
            "_view_module": "@jupyter-widgets/controls",
            "_view_module_version": "1.5.0",
            "_view_name": "HBoxView",
            "box_style": "",
            "children": [
              "IPY_MODEL_02aeb4012e4f40c6bd6afef053facb75",
              "IPY_MODEL_d148f951660943068ac4832bbe24375d",
              "IPY_MODEL_c6b332b31cf74d2db2f73ab7cd4bbe60"
            ],
            "layout": "IPY_MODEL_29fcec2e71a64dc2aa71448175b7835b"
          }
        },
        "02aeb4012e4f40c6bd6afef053facb75": {
          "model_module": "@jupyter-widgets/controls",
          "model_name": "HTMLModel",
          "model_module_version": "1.5.0",
          "state": {
            "_dom_classes": [],
            "_model_module": "@jupyter-widgets/controls",
            "_model_module_version": "1.5.0",
            "_model_name": "HTMLModel",
            "_view_count": null,
            "_view_module": "@jupyter-widgets/controls",
            "_view_module_version": "1.5.0",
            "_view_name": "HTMLView",
            "description": "",
            "description_tooltip": null,
            "layout": "IPY_MODEL_fc3676a60f2248f1a8b4afbb6b6fa635",
            "placeholder": "​",
            "style": "IPY_MODEL_3e374ef8cf2f4e91a9c786eac823c00b",
            "value": "config.json: 100%"
          }
        },
        "d148f951660943068ac4832bbe24375d": {
          "model_module": "@jupyter-widgets/controls",
          "model_name": "FloatProgressModel",
          "model_module_version": "1.5.0",
          "state": {
            "_dom_classes": [],
            "_model_module": "@jupyter-widgets/controls",
            "_model_module_version": "1.5.0",
            "_model_name": "FloatProgressModel",
            "_view_count": null,
            "_view_module": "@jupyter-widgets/controls",
            "_view_module_version": "1.5.0",
            "_view_name": "ProgressView",
            "bar_style": "success",
            "description": "",
            "description_tooltip": null,
            "layout": "IPY_MODEL_9472879556804a9eb2f580a1e3ba45c5",
            "max": 642,
            "min": 0,
            "orientation": "horizontal",
            "style": "IPY_MODEL_8c02439f110643bbbe15af5a86e2be8b",
            "value": 642
          }
        },
        "c6b332b31cf74d2db2f73ab7cd4bbe60": {
          "model_module": "@jupyter-widgets/controls",
          "model_name": "HTMLModel",
          "model_module_version": "1.5.0",
          "state": {
            "_dom_classes": [],
            "_model_module": "@jupyter-widgets/controls",
            "_model_module_version": "1.5.0",
            "_model_name": "HTMLModel",
            "_view_count": null,
            "_view_module": "@jupyter-widgets/controls",
            "_view_module_version": "1.5.0",
            "_view_name": "HTMLView",
            "description": "",
            "description_tooltip": null,
            "layout": "IPY_MODEL_b7591af12469489c8929dc788c61d2a3",
            "placeholder": "​",
            "style": "IPY_MODEL_f543a9582c0f4f2196657478c0729d50",
            "value": " 642/642 [00:00&lt;00:00, 28.5kB/s]"
          }
        },
        "29fcec2e71a64dc2aa71448175b7835b": {
          "model_module": "@jupyter-widgets/base",
          "model_name": "LayoutModel",
          "model_module_version": "1.2.0",
          "state": {
            "_model_module": "@jupyter-widgets/base",
            "_model_module_version": "1.2.0",
            "_model_name": "LayoutModel",
            "_view_count": null,
            "_view_module": "@jupyter-widgets/base",
            "_view_module_version": "1.2.0",
            "_view_name": "LayoutView",
            "align_content": null,
            "align_items": null,
            "align_self": null,
            "border": null,
            "bottom": null,
            "display": null,
            "flex": null,
            "flex_flow": null,
            "grid_area": null,
            "grid_auto_columns": null,
            "grid_auto_flow": null,
            "grid_auto_rows": null,
            "grid_column": null,
            "grid_gap": null,
            "grid_row": null,
            "grid_template_areas": null,
            "grid_template_columns": null,
            "grid_template_rows": null,
            "height": null,
            "justify_content": null,
            "justify_items": null,
            "left": null,
            "margin": null,
            "max_height": null,
            "max_width": null,
            "min_height": null,
            "min_width": null,
            "object_fit": null,
            "object_position": null,
            "order": null,
            "overflow": null,
            "overflow_x": null,
            "overflow_y": null,
            "padding": null,
            "right": null,
            "top": null,
            "visibility": null,
            "width": null
          }
        },
        "fc3676a60f2248f1a8b4afbb6b6fa635": {
          "model_module": "@jupyter-widgets/base",
          "model_name": "LayoutModel",
          "model_module_version": "1.2.0",
          "state": {
            "_model_module": "@jupyter-widgets/base",
            "_model_module_version": "1.2.0",
            "_model_name": "LayoutModel",
            "_view_count": null,
            "_view_module": "@jupyter-widgets/base",
            "_view_module_version": "1.2.0",
            "_view_name": "LayoutView",
            "align_content": null,
            "align_items": null,
            "align_self": null,
            "border": null,
            "bottom": null,
            "display": null,
            "flex": null,
            "flex_flow": null,
            "grid_area": null,
            "grid_auto_columns": null,
            "grid_auto_flow": null,
            "grid_auto_rows": null,
            "grid_column": null,
            "grid_gap": null,
            "grid_row": null,
            "grid_template_areas": null,
            "grid_template_columns": null,
            "grid_template_rows": null,
            "height": null,
            "justify_content": null,
            "justify_items": null,
            "left": null,
            "margin": null,
            "max_height": null,
            "max_width": null,
            "min_height": null,
            "min_width": null,
            "object_fit": null,
            "object_position": null,
            "order": null,
            "overflow": null,
            "overflow_x": null,
            "overflow_y": null,
            "padding": null,
            "right": null,
            "top": null,
            "visibility": null,
            "width": null
          }
        },
        "3e374ef8cf2f4e91a9c786eac823c00b": {
          "model_module": "@jupyter-widgets/controls",
          "model_name": "DescriptionStyleModel",
          "model_module_version": "1.5.0",
          "state": {
            "_model_module": "@jupyter-widgets/controls",
            "_model_module_version": "1.5.0",
            "_model_name": "DescriptionStyleModel",
            "_view_count": null,
            "_view_module": "@jupyter-widgets/base",
            "_view_module_version": "1.2.0",
            "_view_name": "StyleView",
            "description_width": ""
          }
        },
        "9472879556804a9eb2f580a1e3ba45c5": {
          "model_module": "@jupyter-widgets/base",
          "model_name": "LayoutModel",
          "model_module_version": "1.2.0",
          "state": {
            "_model_module": "@jupyter-widgets/base",
            "_model_module_version": "1.2.0",
            "_model_name": "LayoutModel",
            "_view_count": null,
            "_view_module": "@jupyter-widgets/base",
            "_view_module_version": "1.2.0",
            "_view_name": "LayoutView",
            "align_content": null,
            "align_items": null,
            "align_self": null,
            "border": null,
            "bottom": null,
            "display": null,
            "flex": null,
            "flex_flow": null,
            "grid_area": null,
            "grid_auto_columns": null,
            "grid_auto_flow": null,
            "grid_auto_rows": null,
            "grid_column": null,
            "grid_gap": null,
            "grid_row": null,
            "grid_template_areas": null,
            "grid_template_columns": null,
            "grid_template_rows": null,
            "height": null,
            "justify_content": null,
            "justify_items": null,
            "left": null,
            "margin": null,
            "max_height": null,
            "max_width": null,
            "min_height": null,
            "min_width": null,
            "object_fit": null,
            "object_position": null,
            "order": null,
            "overflow": null,
            "overflow_x": null,
            "overflow_y": null,
            "padding": null,
            "right": null,
            "top": null,
            "visibility": null,
            "width": null
          }
        },
        "8c02439f110643bbbe15af5a86e2be8b": {
          "model_module": "@jupyter-widgets/controls",
          "model_name": "ProgressStyleModel",
          "model_module_version": "1.5.0",
          "state": {
            "_model_module": "@jupyter-widgets/controls",
            "_model_module_version": "1.5.0",
            "_model_name": "ProgressStyleModel",
            "_view_count": null,
            "_view_module": "@jupyter-widgets/base",
            "_view_module_version": "1.2.0",
            "_view_name": "StyleView",
            "bar_color": null,
            "description_width": ""
          }
        },
        "b7591af12469489c8929dc788c61d2a3": {
          "model_module": "@jupyter-widgets/base",
          "model_name": "LayoutModel",
          "model_module_version": "1.2.0",
          "state": {
            "_model_module": "@jupyter-widgets/base",
            "_model_module_version": "1.2.0",
            "_model_name": "LayoutModel",
            "_view_count": null,
            "_view_module": "@jupyter-widgets/base",
            "_view_module_version": "1.2.0",
            "_view_name": "LayoutView",
            "align_content": null,
            "align_items": null,
            "align_self": null,
            "border": null,
            "bottom": null,
            "display": null,
            "flex": null,
            "flex_flow": null,
            "grid_area": null,
            "grid_auto_columns": null,
            "grid_auto_flow": null,
            "grid_auto_rows": null,
            "grid_column": null,
            "grid_gap": null,
            "grid_row": null,
            "grid_template_areas": null,
            "grid_template_columns": null,
            "grid_template_rows": null,
            "height": null,
            "justify_content": null,
            "justify_items": null,
            "left": null,
            "margin": null,
            "max_height": null,
            "max_width": null,
            "min_height": null,
            "min_width": null,
            "object_fit": null,
            "object_position": null,
            "order": null,
            "overflow": null,
            "overflow_x": null,
            "overflow_y": null,
            "padding": null,
            "right": null,
            "top": null,
            "visibility": null,
            "width": null
          }
        },
        "f543a9582c0f4f2196657478c0729d50": {
          "model_module": "@jupyter-widgets/controls",
          "model_name": "DescriptionStyleModel",
          "model_module_version": "1.5.0",
          "state": {
            "_model_module": "@jupyter-widgets/controls",
            "_model_module_version": "1.5.0",
            "_model_name": "DescriptionStyleModel",
            "_view_count": null,
            "_view_module": "@jupyter-widgets/base",
            "_view_module_version": "1.2.0",
            "_view_name": "StyleView",
            "description_width": ""
          }
        },
        "19840249d47a4451982fa7ae6eaa64b4": {
          "model_module": "@jupyter-widgets/controls",
          "model_name": "HBoxModel",
          "model_module_version": "1.5.0",
          "state": {
            "_dom_classes": [],
            "_model_module": "@jupyter-widgets/controls",
            "_model_module_version": "1.5.0",
            "_model_name": "HBoxModel",
            "_view_count": null,
            "_view_module": "@jupyter-widgets/controls",
            "_view_module_version": "1.5.0",
            "_view_name": "HBoxView",
            "box_style": "",
            "children": [
              "IPY_MODEL_a0d175a50a2b482baeb667c676d5fe44",
              "IPY_MODEL_9bbedc6143ee43ce9b08f09eafeaef62",
              "IPY_MODEL_2ffc8c5393714e95a94c26dbcfef747f"
            ],
            "layout": "IPY_MODEL_580ec421da7d410c92f00daf5c65a1a2"
          }
        },
        "a0d175a50a2b482baeb667c676d5fe44": {
          "model_module": "@jupyter-widgets/controls",
          "model_name": "HTMLModel",
          "model_module_version": "1.5.0",
          "state": {
            "_dom_classes": [],
            "_model_module": "@jupyter-widgets/controls",
            "_model_module_version": "1.5.0",
            "_model_name": "HTMLModel",
            "_view_count": null,
            "_view_module": "@jupyter-widgets/controls",
            "_view_module_version": "1.5.0",
            "_view_name": "HTMLView",
            "description": "",
            "description_tooltip": null,
            "layout": "IPY_MODEL_0a436e09b8d147aeb8e0da112ef46b78",
            "placeholder": "​",
            "style": "IPY_MODEL_b6ad7832c0074290a1eb360bd944345a",
            "value": "vocab.txt: 100%"
          }
        },
        "9bbedc6143ee43ce9b08f09eafeaef62": {
          "model_module": "@jupyter-widgets/controls",
          "model_name": "FloatProgressModel",
          "model_module_version": "1.5.0",
          "state": {
            "_dom_classes": [],
            "_model_module": "@jupyter-widgets/controls",
            "_model_module_version": "1.5.0",
            "_model_name": "FloatProgressModel",
            "_view_count": null,
            "_view_module": "@jupyter-widgets/controls",
            "_view_module_version": "1.5.0",
            "_view_name": "ProgressView",
            "bar_style": "success",
            "description": "",
            "description_tooltip": null,
            "layout": "IPY_MODEL_436c1626e72a4ee39adc0eaf36ec1461",
            "max": 1649718,
            "min": 0,
            "orientation": "horizontal",
            "style": "IPY_MODEL_d6e45e058a76455bafaee52669322e5b",
            "value": 1649718
          }
        },
        "2ffc8c5393714e95a94c26dbcfef747f": {
          "model_module": "@jupyter-widgets/controls",
          "model_name": "HTMLModel",
          "model_module_version": "1.5.0",
          "state": {
            "_dom_classes": [],
            "_model_module": "@jupyter-widgets/controls",
            "_model_module_version": "1.5.0",
            "_model_name": "HTMLModel",
            "_view_count": null,
            "_view_module": "@jupyter-widgets/controls",
            "_view_module_version": "1.5.0",
            "_view_name": "HTMLView",
            "description": "",
            "description_tooltip": null,
            "layout": "IPY_MODEL_72f1736b4aa1415eb1f43e968e01fcf0",
            "placeholder": "​",
            "style": "IPY_MODEL_7cced10fc8f44e1284840828514c9f5e",
            "value": " 1.65M/1.65M [00:00&lt;00:00, 10.5MB/s]"
          }
        },
        "580ec421da7d410c92f00daf5c65a1a2": {
          "model_module": "@jupyter-widgets/base",
          "model_name": "LayoutModel",
          "model_module_version": "1.2.0",
          "state": {
            "_model_module": "@jupyter-widgets/base",
            "_model_module_version": "1.2.0",
            "_model_name": "LayoutModel",
            "_view_count": null,
            "_view_module": "@jupyter-widgets/base",
            "_view_module_version": "1.2.0",
            "_view_name": "LayoutView",
            "align_content": null,
            "align_items": null,
            "align_self": null,
            "border": null,
            "bottom": null,
            "display": null,
            "flex": null,
            "flex_flow": null,
            "grid_area": null,
            "grid_auto_columns": null,
            "grid_auto_flow": null,
            "grid_auto_rows": null,
            "grid_column": null,
            "grid_gap": null,
            "grid_row": null,
            "grid_template_areas": null,
            "grid_template_columns": null,
            "grid_template_rows": null,
            "height": null,
            "justify_content": null,
            "justify_items": null,
            "left": null,
            "margin": null,
            "max_height": null,
            "max_width": null,
            "min_height": null,
            "min_width": null,
            "object_fit": null,
            "object_position": null,
            "order": null,
            "overflow": null,
            "overflow_x": null,
            "overflow_y": null,
            "padding": null,
            "right": null,
            "top": null,
            "visibility": null,
            "width": null
          }
        },
        "0a436e09b8d147aeb8e0da112ef46b78": {
          "model_module": "@jupyter-widgets/base",
          "model_name": "LayoutModel",
          "model_module_version": "1.2.0",
          "state": {
            "_model_module": "@jupyter-widgets/base",
            "_model_module_version": "1.2.0",
            "_model_name": "LayoutModel",
            "_view_count": null,
            "_view_module": "@jupyter-widgets/base",
            "_view_module_version": "1.2.0",
            "_view_name": "LayoutView",
            "align_content": null,
            "align_items": null,
            "align_self": null,
            "border": null,
            "bottom": null,
            "display": null,
            "flex": null,
            "flex_flow": null,
            "grid_area": null,
            "grid_auto_columns": null,
            "grid_auto_flow": null,
            "grid_auto_rows": null,
            "grid_column": null,
            "grid_gap": null,
            "grid_row": null,
            "grid_template_areas": null,
            "grid_template_columns": null,
            "grid_template_rows": null,
            "height": null,
            "justify_content": null,
            "justify_items": null,
            "left": null,
            "margin": null,
            "max_height": null,
            "max_width": null,
            "min_height": null,
            "min_width": null,
            "object_fit": null,
            "object_position": null,
            "order": null,
            "overflow": null,
            "overflow_x": null,
            "overflow_y": null,
            "padding": null,
            "right": null,
            "top": null,
            "visibility": null,
            "width": null
          }
        },
        "b6ad7832c0074290a1eb360bd944345a": {
          "model_module": "@jupyter-widgets/controls",
          "model_name": "DescriptionStyleModel",
          "model_module_version": "1.5.0",
          "state": {
            "_model_module": "@jupyter-widgets/controls",
            "_model_module_version": "1.5.0",
            "_model_name": "DescriptionStyleModel",
            "_view_count": null,
            "_view_module": "@jupyter-widgets/base",
            "_view_module_version": "1.2.0",
            "_view_name": "StyleView",
            "description_width": ""
          }
        },
        "436c1626e72a4ee39adc0eaf36ec1461": {
          "model_module": "@jupyter-widgets/base",
          "model_name": "LayoutModel",
          "model_module_version": "1.2.0",
          "state": {
            "_model_module": "@jupyter-widgets/base",
            "_model_module_version": "1.2.0",
            "_model_name": "LayoutModel",
            "_view_count": null,
            "_view_module": "@jupyter-widgets/base",
            "_view_module_version": "1.2.0",
            "_view_name": "LayoutView",
            "align_content": null,
            "align_items": null,
            "align_self": null,
            "border": null,
            "bottom": null,
            "display": null,
            "flex": null,
            "flex_flow": null,
            "grid_area": null,
            "grid_auto_columns": null,
            "grid_auto_flow": null,
            "grid_auto_rows": null,
            "grid_column": null,
            "grid_gap": null,
            "grid_row": null,
            "grid_template_areas": null,
            "grid_template_columns": null,
            "grid_template_rows": null,
            "height": null,
            "justify_content": null,
            "justify_items": null,
            "left": null,
            "margin": null,
            "max_height": null,
            "max_width": null,
            "min_height": null,
            "min_width": null,
            "object_fit": null,
            "object_position": null,
            "order": null,
            "overflow": null,
            "overflow_x": null,
            "overflow_y": null,
            "padding": null,
            "right": null,
            "top": null,
            "visibility": null,
            "width": null
          }
        },
        "d6e45e058a76455bafaee52669322e5b": {
          "model_module": "@jupyter-widgets/controls",
          "model_name": "ProgressStyleModel",
          "model_module_version": "1.5.0",
          "state": {
            "_model_module": "@jupyter-widgets/controls",
            "_model_module_version": "1.5.0",
            "_model_name": "ProgressStyleModel",
            "_view_count": null,
            "_view_module": "@jupyter-widgets/base",
            "_view_module_version": "1.2.0",
            "_view_name": "StyleView",
            "bar_color": null,
            "description_width": ""
          }
        },
        "72f1736b4aa1415eb1f43e968e01fcf0": {
          "model_module": "@jupyter-widgets/base",
          "model_name": "LayoutModel",
          "model_module_version": "1.2.0",
          "state": {
            "_model_module": "@jupyter-widgets/base",
            "_model_module_version": "1.2.0",
            "_model_name": "LayoutModel",
            "_view_count": null,
            "_view_module": "@jupyter-widgets/base",
            "_view_module_version": "1.2.0",
            "_view_name": "LayoutView",
            "align_content": null,
            "align_items": null,
            "align_self": null,
            "border": null,
            "bottom": null,
            "display": null,
            "flex": null,
            "flex_flow": null,
            "grid_area": null,
            "grid_auto_columns": null,
            "grid_auto_flow": null,
            "grid_auto_rows": null,
            "grid_column": null,
            "grid_gap": null,
            "grid_row": null,
            "grid_template_areas": null,
            "grid_template_columns": null,
            "grid_template_rows": null,
            "height": null,
            "justify_content": null,
            "justify_items": null,
            "left": null,
            "margin": null,
            "max_height": null,
            "max_width": null,
            "min_height": null,
            "min_width": null,
            "object_fit": null,
            "object_position": null,
            "order": null,
            "overflow": null,
            "overflow_x": null,
            "overflow_y": null,
            "padding": null,
            "right": null,
            "top": null,
            "visibility": null,
            "width": null
          }
        },
        "7cced10fc8f44e1284840828514c9f5e": {
          "model_module": "@jupyter-widgets/controls",
          "model_name": "DescriptionStyleModel",
          "model_module_version": "1.5.0",
          "state": {
            "_model_module": "@jupyter-widgets/controls",
            "_model_module_version": "1.5.0",
            "_model_name": "DescriptionStyleModel",
            "_view_count": null,
            "_view_module": "@jupyter-widgets/base",
            "_view_module_version": "1.2.0",
            "_view_name": "StyleView",
            "description_width": ""
          }
        },
        "e679a5c89a3142bfb112c6b465526065": {
          "model_module": "@jupyter-widgets/controls",
          "model_name": "HBoxModel",
          "model_module_version": "1.5.0",
          "state": {
            "_dom_classes": [],
            "_model_module": "@jupyter-widgets/controls",
            "_model_module_version": "1.5.0",
            "_model_name": "HBoxModel",
            "_view_count": null,
            "_view_module": "@jupyter-widgets/controls",
            "_view_module_version": "1.5.0",
            "_view_name": "HBoxView",
            "box_style": "",
            "children": [
              "IPY_MODEL_26e05b832f0545b29aead6d61321006a",
              "IPY_MODEL_31e64ffe6f6f47d6b7462a808580c66e",
              "IPY_MODEL_e307c29233f841b9ac5f83b03f814e78"
            ],
            "layout": "IPY_MODEL_4728b8d0dcbd496a85178103afc3b5c9"
          }
        },
        "26e05b832f0545b29aead6d61321006a": {
          "model_module": "@jupyter-widgets/controls",
          "model_name": "HTMLModel",
          "model_module_version": "1.5.0",
          "state": {
            "_dom_classes": [],
            "_model_module": "@jupyter-widgets/controls",
            "_model_module_version": "1.5.0",
            "_model_name": "HTMLModel",
            "_view_count": null,
            "_view_module": "@jupyter-widgets/controls",
            "_view_module_version": "1.5.0",
            "_view_name": "HTMLView",
            "description": "",
            "description_tooltip": null,
            "layout": "IPY_MODEL_13e8af73cb674e63bcea6c008d52f4b2",
            "placeholder": "​",
            "style": "IPY_MODEL_10534bc769aa49d5a53f5290c182b9f1",
            "value": "special_tokens_map.json: 100%"
          }
        },
        "31e64ffe6f6f47d6b7462a808580c66e": {
          "model_module": "@jupyter-widgets/controls",
          "model_name": "FloatProgressModel",
          "model_module_version": "1.5.0",
          "state": {
            "_dom_classes": [],
            "_model_module": "@jupyter-widgets/controls",
            "_model_module_version": "1.5.0",
            "_model_name": "FloatProgressModel",
            "_view_count": null,
            "_view_module": "@jupyter-widgets/controls",
            "_view_module_version": "1.5.0",
            "_view_name": "ProgressView",
            "bar_style": "success",
            "description": "",
            "description_tooltip": null,
            "layout": "IPY_MODEL_5b0a1cba931e4e18b81c031ebed979d8",
            "max": 112,
            "min": 0,
            "orientation": "horizontal",
            "style": "IPY_MODEL_703bb7ca52d04dd2888bc34114bb21e8",
            "value": 112
          }
        },
        "e307c29233f841b9ac5f83b03f814e78": {
          "model_module": "@jupyter-widgets/controls",
          "model_name": "HTMLModel",
          "model_module_version": "1.5.0",
          "state": {
            "_dom_classes": [],
            "_model_module": "@jupyter-widgets/controls",
            "_model_module_version": "1.5.0",
            "_model_name": "HTMLModel",
            "_view_count": null,
            "_view_module": "@jupyter-widgets/controls",
            "_view_module_version": "1.5.0",
            "_view_name": "HTMLView",
            "description": "",
            "description_tooltip": null,
            "layout": "IPY_MODEL_38037bc51bb44a30be2fa81a6998ab8a",
            "placeholder": "​",
            "style": "IPY_MODEL_fa0369cc378a4dec829dabeead1910d7",
            "value": " 112/112 [00:00&lt;00:00, 4.86kB/s]"
          }
        },
        "4728b8d0dcbd496a85178103afc3b5c9": {
          "model_module": "@jupyter-widgets/base",
          "model_name": "LayoutModel",
          "model_module_version": "1.2.0",
          "state": {
            "_model_module": "@jupyter-widgets/base",
            "_model_module_version": "1.2.0",
            "_model_name": "LayoutModel",
            "_view_count": null,
            "_view_module": "@jupyter-widgets/base",
            "_view_module_version": "1.2.0",
            "_view_name": "LayoutView",
            "align_content": null,
            "align_items": null,
            "align_self": null,
            "border": null,
            "bottom": null,
            "display": null,
            "flex": null,
            "flex_flow": null,
            "grid_area": null,
            "grid_auto_columns": null,
            "grid_auto_flow": null,
            "grid_auto_rows": null,
            "grid_column": null,
            "grid_gap": null,
            "grid_row": null,
            "grid_template_areas": null,
            "grid_template_columns": null,
            "grid_template_rows": null,
            "height": null,
            "justify_content": null,
            "justify_items": null,
            "left": null,
            "margin": null,
            "max_height": null,
            "max_width": null,
            "min_height": null,
            "min_width": null,
            "object_fit": null,
            "object_position": null,
            "order": null,
            "overflow": null,
            "overflow_x": null,
            "overflow_y": null,
            "padding": null,
            "right": null,
            "top": null,
            "visibility": null,
            "width": null
          }
        },
        "13e8af73cb674e63bcea6c008d52f4b2": {
          "model_module": "@jupyter-widgets/base",
          "model_name": "LayoutModel",
          "model_module_version": "1.2.0",
          "state": {
            "_model_module": "@jupyter-widgets/base",
            "_model_module_version": "1.2.0",
            "_model_name": "LayoutModel",
            "_view_count": null,
            "_view_module": "@jupyter-widgets/base",
            "_view_module_version": "1.2.0",
            "_view_name": "LayoutView",
            "align_content": null,
            "align_items": null,
            "align_self": null,
            "border": null,
            "bottom": null,
            "display": null,
            "flex": null,
            "flex_flow": null,
            "grid_area": null,
            "grid_auto_columns": null,
            "grid_auto_flow": null,
            "grid_auto_rows": null,
            "grid_column": null,
            "grid_gap": null,
            "grid_row": null,
            "grid_template_areas": null,
            "grid_template_columns": null,
            "grid_template_rows": null,
            "height": null,
            "justify_content": null,
            "justify_items": null,
            "left": null,
            "margin": null,
            "max_height": null,
            "max_width": null,
            "min_height": null,
            "min_width": null,
            "object_fit": null,
            "object_position": null,
            "order": null,
            "overflow": null,
            "overflow_x": null,
            "overflow_y": null,
            "padding": null,
            "right": null,
            "top": null,
            "visibility": null,
            "width": null
          }
        },
        "10534bc769aa49d5a53f5290c182b9f1": {
          "model_module": "@jupyter-widgets/controls",
          "model_name": "DescriptionStyleModel",
          "model_module_version": "1.5.0",
          "state": {
            "_model_module": "@jupyter-widgets/controls",
            "_model_module_version": "1.5.0",
            "_model_name": "DescriptionStyleModel",
            "_view_count": null,
            "_view_module": "@jupyter-widgets/base",
            "_view_module_version": "1.2.0",
            "_view_name": "StyleView",
            "description_width": ""
          }
        },
        "5b0a1cba931e4e18b81c031ebed979d8": {
          "model_module": "@jupyter-widgets/base",
          "model_name": "LayoutModel",
          "model_module_version": "1.2.0",
          "state": {
            "_model_module": "@jupyter-widgets/base",
            "_model_module_version": "1.2.0",
            "_model_name": "LayoutModel",
            "_view_count": null,
            "_view_module": "@jupyter-widgets/base",
            "_view_module_version": "1.2.0",
            "_view_name": "LayoutView",
            "align_content": null,
            "align_items": null,
            "align_self": null,
            "border": null,
            "bottom": null,
            "display": null,
            "flex": null,
            "flex_flow": null,
            "grid_area": null,
            "grid_auto_columns": null,
            "grid_auto_flow": null,
            "grid_auto_rows": null,
            "grid_column": null,
            "grid_gap": null,
            "grid_row": null,
            "grid_template_areas": null,
            "grid_template_columns": null,
            "grid_template_rows": null,
            "height": null,
            "justify_content": null,
            "justify_items": null,
            "left": null,
            "margin": null,
            "max_height": null,
            "max_width": null,
            "min_height": null,
            "min_width": null,
            "object_fit": null,
            "object_position": null,
            "order": null,
            "overflow": null,
            "overflow_x": null,
            "overflow_y": null,
            "padding": null,
            "right": null,
            "top": null,
            "visibility": null,
            "width": null
          }
        },
        "703bb7ca52d04dd2888bc34114bb21e8": {
          "model_module": "@jupyter-widgets/controls",
          "model_name": "ProgressStyleModel",
          "model_module_version": "1.5.0",
          "state": {
            "_model_module": "@jupyter-widgets/controls",
            "_model_module_version": "1.5.0",
            "_model_name": "ProgressStyleModel",
            "_view_count": null,
            "_view_module": "@jupyter-widgets/base",
            "_view_module_version": "1.2.0",
            "_view_name": "StyleView",
            "bar_color": null,
            "description_width": ""
          }
        },
        "38037bc51bb44a30be2fa81a6998ab8a": {
          "model_module": "@jupyter-widgets/base",
          "model_name": "LayoutModel",
          "model_module_version": "1.2.0",
          "state": {
            "_model_module": "@jupyter-widgets/base",
            "_model_module_version": "1.2.0",
            "_model_name": "LayoutModel",
            "_view_count": null,
            "_view_module": "@jupyter-widgets/base",
            "_view_module_version": "1.2.0",
            "_view_name": "LayoutView",
            "align_content": null,
            "align_items": null,
            "align_self": null,
            "border": null,
            "bottom": null,
            "display": null,
            "flex": null,
            "flex_flow": null,
            "grid_area": null,
            "grid_auto_columns": null,
            "grid_auto_flow": null,
            "grid_auto_rows": null,
            "grid_column": null,
            "grid_gap": null,
            "grid_row": null,
            "grid_template_areas": null,
            "grid_template_columns": null,
            "grid_template_rows": null,
            "height": null,
            "justify_content": null,
            "justify_items": null,
            "left": null,
            "margin": null,
            "max_height": null,
            "max_width": null,
            "min_height": null,
            "min_width": null,
            "object_fit": null,
            "object_position": null,
            "order": null,
            "overflow": null,
            "overflow_x": null,
            "overflow_y": null,
            "padding": null,
            "right": null,
            "top": null,
            "visibility": null,
            "width": null
          }
        },
        "fa0369cc378a4dec829dabeead1910d7": {
          "model_module": "@jupyter-widgets/controls",
          "model_name": "DescriptionStyleModel",
          "model_module_version": "1.5.0",
          "state": {
            "_model_module": "@jupyter-widgets/controls",
            "_model_module_version": "1.5.0",
            "_model_name": "DescriptionStyleModel",
            "_view_count": null,
            "_view_module": "@jupyter-widgets/base",
            "_view_module_version": "1.2.0",
            "_view_name": "StyleView",
            "description_width": ""
          }
        }
      }
    }
  },
  "cells": [
    {
      "cell_type": "code",
      "execution_count": null,
      "metadata": {
        "id": "Jsz57vxw_74a",
        "colab": {
          "base_uri": "https://localhost:8080/"
        },
        "outputId": "1ecce7d6-0e10-4f85-fe5d-a5974916ba11"
      },
      "outputs": [
        {
          "output_type": "stream",
          "name": "stdout",
          "text": [
            "Archive:  my_archive.zip\n",
            " extracting: my_data/train/noun_verbtrain.json  \n",
            " extracting: my_data/train/noun_verb_nountrain.json  \n",
            "replace my_data/train/noun_verb_nountrain.json? [y]es, [n]o, [A]ll, [N]one, [r]ename: A\n",
            " extracting: my_data/train/noun_verb_nountrain.json  \n",
            " extracting: my_data/train/noun_verb_nountrain.json  \n",
            " extracting: my_data/train/noun_verb_nountrain.json  \n",
            " extracting: my_data/train/with_chtotrain.json  \n",
            " extracting: my_data/train/with_chtotrain.json  \n",
            " extracting: my_data/train/with_pptrain.json  \n",
            " extracting: my_data/train/with_pptrain.json  \n",
            " extracting: my_data/train/subj_reltrain.json  \n",
            " extracting: my_data/train/subj_reltrain.json  \n",
            " extracting: my_data/train/obj_reltrain.json  \n",
            " extracting: my_data/train/obj_reltrain.json  \n",
            " extracting: my_data/val/noun_verbval.json  \n",
            " extracting: my_data/val/noun_verb_nounval.json  \n",
            " extracting: my_data/val/noun_verb_nounval.json  \n",
            " extracting: my_data/val/noun_verb_nounval.json  \n",
            " extracting: my_data/val/noun_verb_nounval.json  \n",
            " extracting: my_data/val/with_chtoval.json  \n",
            " extracting: my_data/val/with_chtoval.json  \n",
            " extracting: my_data/val/with_ppval.json  \n",
            " extracting: my_data/val/with_ppval.json  \n",
            " extracting: my_data/val/subj_relval.json  \n",
            " extracting: my_data/val/subj_relval.json  \n",
            " extracting: my_data/val/obj_relval.json  \n",
            " extracting: my_data/val/obj_relval.json  \n",
            " extracting: my_data/test/noun_verbtest.json  \n",
            " extracting: my_data/test/noun_verb_nountest.json  \n",
            " extracting: my_data/test/noun_verb_nountest.json  \n",
            " extracting: my_data/test/noun_verb_nountest.json  \n",
            " extracting: my_data/test/noun_verb_nountest.json  \n",
            " extracting: my_data/test/with_chtotest.json  \n",
            " extracting: my_data/test/with_chtotest.json  \n",
            " extracting: my_data/test/with_pptest.json  \n",
            " extracting: my_data/test/with_pptest.json  \n",
            " extracting: my_data/test/subj_reltest.json  \n",
            " extracting: my_data/test/subj_reltest.json  \n",
            " extracting: my_data/test/obj_reltest.json  \n",
            " extracting: my_data/test/obj_reltest.json  \n"
          ]
        }
      ],
      "source": [
        "! unzip my_archive.zip -d my_data"
      ]
    },
    {
      "cell_type": "code",
      "source": [
        "from transformers import AutoTokenizer, AutoModel\n",
        "import json\n",
        "from pathlib import Path\n",
        "import itertools\n",
        "from torch.utils.data.dataset import Dataset\n",
        "import re"
      ],
      "metadata": {
        "id": "yeg3LQDd03Xk"
      },
      "execution_count": null,
      "outputs": []
    },
    {
      "cell_type": "code",
      "source": [
        "!pip install jsonlines"
      ],
      "metadata": {
        "colab": {
          "base_uri": "https://localhost:8080/"
        },
        "id": "cOjQmvoFrLrJ",
        "outputId": "6ff5b6f8-8bd1-42ad-d327-291a1f3a1d15"
      },
      "execution_count": null,
      "outputs": [
        {
          "output_type": "stream",
          "name": "stdout",
          "text": [
            "Collecting jsonlines\n",
            "  Downloading jsonlines-4.0.0-py3-none-any.whl.metadata (1.6 kB)\n",
            "Requirement already satisfied: attrs>=19.2.0 in /usr/local/lib/python3.11/dist-packages (from jsonlines) (25.1.0)\n",
            "Downloading jsonlines-4.0.0-py3-none-any.whl (8.7 kB)\n",
            "Installing collected packages: jsonlines\n",
            "Successfully installed jsonlines-4.0.0\n"
          ]
        }
      ]
    },
    {
      "cell_type": "code",
      "source": [
        "import jsonlines"
      ],
      "metadata": {
        "id": "aoebWdVprHPj"
      },
      "execution_count": null,
      "outputs": []
    },
    {
      "cell_type": "code",
      "source": [
        "#  Test_dir = Path(\"/content/my_data/test\")\n",
        "#  Test_files = list(Test_dir.rglob(\"*.json\"))\n",
        "#  Train_dir = Path(\"/content/my_data/train\")\n",
        "#  Train_files = list(Train_dir.rglob(\"*.json\"))\n",
        "#  Val_dir = Path(\"/content/my_data/val\")\n",
        "#  Val_files = list(Val_dir.rglob(\"*.json\"))"
      ],
      "metadata": {
        "id": "TozHxSh5bxav"
      },
      "execution_count": null,
      "outputs": []
    },
    {
      "cell_type": "code",
      "source": [
        "MODES = [\"train\", \"test\", \"val\"]"
      ],
      "metadata": {
        "id": "2OkAZu3ovate"
      },
      "execution_count": null,
      "outputs": []
    },
    {
      "cell_type": "code",
      "source": [
        "paths = {}\n",
        "for mode in MODES:\n",
        "    paths[f\"{mode}_dir\"] = Path(f\"/content/my_data/{mode}\")\n",
        "\n",
        "paths"
      ],
      "metadata": {
        "colab": {
          "base_uri": "https://localhost:8080/"
        },
        "id": "nGIJLeapv3Cd",
        "outputId": "beb2eed4-013e-4470-e1aa-71c70dcdefdf"
      },
      "execution_count": null,
      "outputs": [
        {
          "output_type": "execute_result",
          "data": {
            "text/plain": [
              "{'train_dir': PosixPath('/content/my_data/train'),\n",
              " 'test_dir': PosixPath('/content/my_data/test'),\n",
              " 'val_dir': PosixPath('/content/my_data/val')}"
            ]
          },
          "metadata": {},
          "execution_count": 6
        }
      ]
    },
    {
      "cell_type": "code",
      "source": [
        "def make_one_file(paths, mode):\n",
        "    directory = paths[f\"{mode}_dir\"]\n",
        "    files = list(directory.rglob(\"*.json\"))\n",
        "    output_file_path = f\"{mode}_files.json\"\n",
        "    with open(output_file_path, \"w\", encoding = \"utf-8\") as output_file:\n",
        "        for file in files:\n",
        "            with open(file, \"r\", encoding = \"utf-8\") as input_file:\n",
        "                content = input_file.read()\n",
        "                output_file.write(content + \"\\n\")\n",
        "\n",
        "    with jsonlines.open(output_file_path, \"r\") as f:\n",
        "        loaded = list(f)\n",
        "        loaded = list(itertools.chain(*loaded))\n",
        "\n",
        "    loaded_dict_list = []\n",
        "    for elem in loaded:\n",
        "        s_corrected = re.sub(r\"(\\w+):\", r'\"\\1\":', elem)\n",
        "\n",
        "        d = json.loads(s_corrected)\n",
        "        loaded_dict_list.append(d)\n",
        "    return loaded_dict_list\n"
      ],
      "metadata": {
        "id": "sNY40UOiucXp"
      },
      "execution_count": null,
      "outputs": []
    },
    {
      "cell_type": "code",
      "source": [
        "train_data = make_one_file(paths, MODES[0])"
      ],
      "metadata": {
        "id": "G5uZ0X7zyTzI"
      },
      "execution_count": null,
      "outputs": []
    },
    {
      "cell_type": "code",
      "source": [
        "tokenizer = AutoTokenizer.from_pretrained(\"DeepPavlov/rubert-base-cased\")"
      ],
      "metadata": {
        "colab": {
          "base_uri": "https://localhost:8080/",
          "height": 249,
          "referenced_widgets": [
            "3e64dc1b04564259985da0c55178f1c2",
            "ffaf4031e4854e65a6ea27a0a615e392",
            "686df21421ca4f60a9a23c3cb02b8727",
            "0d74dc88e18340b397c89671f1cd0896",
            "1be96be00384499ba1290a059a238086",
            "99899be56b4246d6a42ef2e9462c2ede",
            "5b18147480554ff4832cc584531ca6ec",
            "096dc00bb608439095305d7a1230d3a2",
            "7cb6710eb6c94ab99fdc77c2c06ec324",
            "0067cc382d26406dac5f96cae7f11ef0",
            "5cf41eea79364de08a7b3b912d1c0777",
            "f2b2de30c61f4d49ae90387f6595fcf2",
            "02aeb4012e4f40c6bd6afef053facb75",
            "d148f951660943068ac4832bbe24375d",
            "c6b332b31cf74d2db2f73ab7cd4bbe60",
            "29fcec2e71a64dc2aa71448175b7835b",
            "fc3676a60f2248f1a8b4afbb6b6fa635",
            "3e374ef8cf2f4e91a9c786eac823c00b",
            "9472879556804a9eb2f580a1e3ba45c5",
            "8c02439f110643bbbe15af5a86e2be8b",
            "b7591af12469489c8929dc788c61d2a3",
            "f543a9582c0f4f2196657478c0729d50",
            "19840249d47a4451982fa7ae6eaa64b4",
            "a0d175a50a2b482baeb667c676d5fe44",
            "9bbedc6143ee43ce9b08f09eafeaef62",
            "2ffc8c5393714e95a94c26dbcfef747f",
            "580ec421da7d410c92f00daf5c65a1a2",
            "0a436e09b8d147aeb8e0da112ef46b78",
            "b6ad7832c0074290a1eb360bd944345a",
            "436c1626e72a4ee39adc0eaf36ec1461",
            "d6e45e058a76455bafaee52669322e5b",
            "72f1736b4aa1415eb1f43e968e01fcf0",
            "7cced10fc8f44e1284840828514c9f5e",
            "e679a5c89a3142bfb112c6b465526065",
            "26e05b832f0545b29aead6d61321006a",
            "31e64ffe6f6f47d6b7462a808580c66e",
            "e307c29233f841b9ac5f83b03f814e78",
            "4728b8d0dcbd496a85178103afc3b5c9",
            "13e8af73cb674e63bcea6c008d52f4b2",
            "10534bc769aa49d5a53f5290c182b9f1",
            "5b0a1cba931e4e18b81c031ebed979d8",
            "703bb7ca52d04dd2888bc34114bb21e8",
            "38037bc51bb44a30be2fa81a6998ab8a",
            "fa0369cc378a4dec829dabeead1910d7"
          ]
        },
        "id": "hgEZBmbm2b1F",
        "outputId": "6a464f18-7ccb-448e-8ed1-6e3ba33db270"
      },
      "execution_count": null,
      "outputs": [
        {
          "output_type": "stream",
          "name": "stderr",
          "text": [
            "/usr/local/lib/python3.11/dist-packages/huggingface_hub/utils/_auth.py:94: UserWarning: \n",
            "The secret `HF_TOKEN` does not exist in your Colab secrets.\n",
            "To authenticate with the Hugging Face Hub, create a token in your settings tab (https://huggingface.co/settings/tokens), set it as secret in your Google Colab and restart your session.\n",
            "You will be able to reuse this secret in all of your notebooks.\n",
            "Please note that authentication is recommended but still optional to access public models or datasets.\n",
            "  warnings.warn(\n"
          ]
        },
        {
          "output_type": "display_data",
          "data": {
            "text/plain": [
              "tokenizer_config.json:   0%|          | 0.00/24.0 [00:00<?, ?B/s]"
            ],
            "application/vnd.jupyter.widget-view+json": {
              "version_major": 2,
              "version_minor": 0,
              "model_id": "3e64dc1b04564259985da0c55178f1c2"
            }
          },
          "metadata": {}
        },
        {
          "output_type": "display_data",
          "data": {
            "text/plain": [
              "config.json:   0%|          | 0.00/642 [00:00<?, ?B/s]"
            ],
            "application/vnd.jupyter.widget-view+json": {
              "version_major": 2,
              "version_minor": 0,
              "model_id": "f2b2de30c61f4d49ae90387f6595fcf2"
            }
          },
          "metadata": {}
        },
        {
          "output_type": "display_data",
          "data": {
            "text/plain": [
              "vocab.txt:   0%|          | 0.00/1.65M [00:00<?, ?B/s]"
            ],
            "application/vnd.jupyter.widget-view+json": {
              "version_major": 2,
              "version_minor": 0,
              "model_id": "19840249d47a4451982fa7ae6eaa64b4"
            }
          },
          "metadata": {}
        },
        {
          "output_type": "display_data",
          "data": {
            "text/plain": [
              "special_tokens_map.json:   0%|          | 0.00/112 [00:00<?, ?B/s]"
            ],
            "application/vnd.jupyter.widget-view+json": {
              "version_major": 2,
              "version_minor": 0,
              "model_id": "e679a5c89a3142bfb112c6b465526065"
            }
          },
          "metadata": {}
        }
      ]
    },
    {
      "cell_type": "code",
      "source": [
        "# Пример выполнения"
      ],
      "metadata": {
        "id": "wG5gq60_4a_U"
      },
      "execution_count": null,
      "outputs": []
    },
    {
      "cell_type": "code",
      "source": [
        "def preprocess(line):\n",
        "    tokenized_data = tokenizer(line[\"sentence\"])\n",
        "    token_indexes = tokenized_data[\"input_ids\"]\n",
        "    tokens = tokenizer.convert_ids_to_tokens(token_indexes)\n",
        "    return token_indexes"
      ],
      "metadata": {
        "id": "G6jQRVXi2b5a"
      },
      "execution_count": null,
      "outputs": []
    },
    {
      "cell_type": "code",
      "source": [
        "train_data[15]"
      ],
      "metadata": {
        "colab": {
          "base_uri": "https://localhost:8080/"
        },
        "id": "weUz8g7m2vuV",
        "outputId": "c282b191-efa7-455f-9b0d-ebc14befe4b5"
      },
      "execution_count": null,
      "outputs": [
        {
          "output_type": "execute_result",
          "data": {
            "text/plain": [
              "{'sentence': 'писатели были пожилыми', 'idx': 1, 'label': 'anim'}"
            ]
          },
          "metadata": {},
          "execution_count": 37
        }
      ]
    },
    {
      "cell_type": "code",
      "source": [
        "preprocess(train_data[15])"
      ],
      "metadata": {
        "colab": {
          "base_uri": "https://localhost:8080/"
        },
        "id": "NAzbIXXV2b9N",
        "outputId": "f97ffc85-c497-40ed-f3f4-c5d5dd270729"
      },
      "execution_count": null,
      "outputs": [
        {
          "output_type": "execute_result",
          "data": {
            "text/plain": [
              "[101, 40862, 3294, 103659, 852, 102]"
            ]
          },
          "metadata": {},
          "execution_count": 38
        }
      ]
    },
    {
      "cell_type": "code",
      "source": [
        "tokenizer(\"[PAD]\")[\"input_ids\"][1]\n",
        "\n"
      ],
      "metadata": {
        "colab": {
          "base_uri": "https://localhost:8080/"
        },
        "id": "GhUUIPxkcIAt",
        "outputId": "346bead8-497d-4173-f2ab-809c414b5102"
      },
      "execution_count": null,
      "outputs": [
        {
          "output_type": "execute_result",
          "data": {
            "text/plain": [
              "0"
            ]
          },
          "metadata": {},
          "execution_count": 46
        }
      ]
    },
    {
      "cell_type": "code",
      "source": [
        "# Создание датасета"
      ],
      "metadata": {
        "id": "UEU4HWgx4atE"
      },
      "execution_count": null,
      "outputs": []
    },
    {
      "cell_type": "code",
      "source": [
        "class GrammarDataset(Dataset):\n",
        "    def __init__(self, data):\n",
        "        super().__init__()\n",
        "        self.data = data\n",
        "        self.tokenizer = AutoTokenizer.from_pretrained(\"DeepPavlov/rubert-base-cased\")\n",
        "\n",
        "\n",
        "    def __len__(self):\n",
        "        return len(self.data)\n",
        "\n",
        "    def preprocess(self, line):\n",
        "        tokenized_data = self.tokenizer(line[\"sentence\"])\n",
        "        token_indexes = tokenized_data[\"input_ids\"]\n",
        "\n",
        "        return token_indexes, line[\"idx\"]\n",
        "\n",
        "\n",
        "    def __getitem__(self, idx):\n",
        "        line = self.data[idx]\n",
        "        token_indexes, target = self.preprocess(line)\n",
        "        return {\"input\": token_indexes, \"target\": target}\n"
      ],
      "metadata": {
        "id": "Lwc4bF7odbVO"
      },
      "execution_count": null,
      "outputs": []
    },
    {
      "cell_type": "code",
      "source": [
        "train_dataset = GrammarDataset(train_data)"
      ],
      "metadata": {
        "id": "soxHBl_64YsF"
      },
      "execution_count": null,
      "outputs": []
    },
    {
      "cell_type": "code",
      "source": [
        "train_dataset[1]"
      ],
      "metadata": {
        "colab": {
          "base_uri": "https://localhost:8080/"
        },
        "id": "9wMspHum4Y-d",
        "outputId": "6348dd21-563d-4499-fab3-ffe0b58275f4"
      },
      "execution_count": null,
      "outputs": [
        {
          "output_type": "execute_result",
          "data": {
            "text/plain": [
              "{'input': [101, 13712, 49433, 2343, 102], 'target': 0}"
            ]
          },
          "metadata": {},
          "execution_count": 74
        }
      ]
    },
    {
      "cell_type": "markdown",
      "source": [
        "**Датасет сформирован, теперь перейдем к формированию батчей, паддингу и прочему**"
      ],
      "metadata": {
        "id": "sC-4f96b46UG"
      }
    },
    {
      "cell_type": "code",
      "source": [
        "from torch.utils.data import DataLoader\n",
        "from torch.nn.utils.rnn import pad_sequence\n",
        "import torch"
      ],
      "metadata": {
        "id": "c61368m245Wz"
      },
      "execution_count": null,
      "outputs": []
    },
    {
      "cell_type": "code",
      "source": [
        "batch_size = 10\n",
        "num_epochs = 10\n",
        "device = torch.device(\"cuda:0\" if torch.cuda.is_available() else \"cpu\")\n",
        "device"
      ],
      "metadata": {
        "colab": {
          "base_uri": "https://localhost:8080/"
        },
        "id": "r-MXF3pdeiqi",
        "outputId": "7b970ec7-f450-4b4e-c5c4-1543862d1d24"
      },
      "execution_count": null,
      "outputs": [
        {
          "output_type": "execute_result",
          "data": {
            "text/plain": [
              "device(type='cuda', index=0)"
            ]
          },
          "metadata": {},
          "execution_count": 44
        }
      ]
    },
    {
      "cell_type": "code",
      "source": [
        "def custom_padding(batch):\n",
        "    inputs_list = [torch.tensor(item[\"input\"]) for item in batch]\n",
        "    targets_list = torch.tensor([torch.tensor(item[\"target\"]) for item in batch])\n",
        "    padded_inputs = pad_sequence(inputs_list, batch_first=True, padding_value=tokenizer(\"[PAD]\")[\"input_ids\"][1])\n",
        "    return {\"input\": padded_inputs, \"target\": targets_list}"
      ],
      "metadata": {
        "id": "YjQjCgfn45Z-"
      },
      "execution_count": null,
      "outputs": []
    },
    {
      "cell_type": "code",
      "source": [
        "# Проверка\n",
        "\n",
        "# batch = [train_dataset[1], train_dataset[3], train_dataset[5]]\n",
        "# custom_padding(batch)"
      ],
      "metadata": {
        "id": "VvBNBAhBfkY5"
      },
      "execution_count": null,
      "outputs": []
    },
    {
      "cell_type": "code",
      "source": [
        "train_dataloader = DataLoader(train_dataset, batch_size=batch_size, shuffle=True, collate_fn=custom_padding)"
      ],
      "metadata": {
        "id": "onhVQoBcbZox"
      },
      "execution_count": null,
      "outputs": []
    },
    {
      "cell_type": "code",
      "source": [
        "# Проверка\n",
        "\n",
        "it = iter(train_dataloader)\n",
        "batch = next(it)\n",
        "print(batch[\"input\"].size())\n",
        "# print(batch[\"target\"])"
      ],
      "metadata": {
        "colab": {
          "base_uri": "https://localhost:8080/"
        },
        "id": "9nxCJcZ2ew3B",
        "outputId": "0a08fb79-42ca-4c1f-ca92-43d83cb90b75"
      },
      "execution_count": null,
      "outputs": [
        {
          "output_type": "stream",
          "name": "stdout",
          "text": [
            "torch.Size([10, 10])\n"
          ]
        }
      ]
    },
    {
      "cell_type": "markdown",
      "source": [
        "**Модель + обучение**"
      ],
      "metadata": {
        "id": "tm9PipyIfnD-"
      }
    },
    {
      "cell_type": "code",
      "source": [
        "RUBERT = AutoModel.from_pretrained(\"DeepPavlov/rubert-base-cased\").to(device)"
      ],
      "metadata": {
        "colab": {
          "base_uri": "https://localhost:8080/"
        },
        "id": "5ZWPxcIqbfNH",
        "outputId": "cc80ff4a-96be-4034-cb9a-04834a7d57d6"
      },
      "execution_count": null,
      "outputs": [
        {
          "output_type": "stream",
          "name": "stderr",
          "text": [
            "Some weights of the model checkpoint at DeepPavlov/rubert-base-cased were not used when initializing BertModel: ['cls.predictions.bias', 'cls.predictions.decoder.bias', 'cls.predictions.decoder.weight', 'cls.predictions.transform.LayerNorm.bias', 'cls.predictions.transform.LayerNorm.weight', 'cls.predictions.transform.dense.bias', 'cls.predictions.transform.dense.weight', 'cls.seq_relationship.bias', 'cls.seq_relationship.weight']\n",
            "- This IS expected if you are initializing BertModel from the checkpoint of a model trained on another task or with another architecture (e.g. initializing a BertForSequenceClassification model from a BertForPreTraining model).\n",
            "- This IS NOT expected if you are initializing BertModel from the checkpoint of a model that you expect to be exactly identical (initializing a BertForSequenceClassification model from a BertForSequenceClassification model).\n"
          ]
        }
      ]
    },
    {
      "cell_type": "code",
      "source": [],
      "metadata": {
        "id": "znwLs3Obgr7U"
      },
      "execution_count": null,
      "outputs": []
    },
    {
      "cell_type": "code",
      "source": [
        "answer = RUBERT(batch['input'])\n",
        "# answer"
      ],
      "metadata": {
        "id": "GD9aXz3Mgr-I"
      },
      "execution_count": null,
      "outputs": []
    },
    {
      "cell_type": "code",
      "source": [
        "print(answer[\"last_hidden_state\"].shape)\n",
        "print(answer[\"pooler_output\"].shape)"
      ],
      "metadata": {
        "colab": {
          "base_uri": "https://localhost:8080/"
        },
        "id": "iXV9-0wHhBKS",
        "outputId": "337a34c8-26d2-4f45-f212-82c0009394e0"
      },
      "execution_count": null,
      "outputs": [
        {
          "output_type": "stream",
          "name": "stdout",
          "text": [
            "torch.Size([10, 10, 768])\n",
            "torch.Size([10, 768])\n"
          ]
        }
      ]
    },
    {
      "cell_type": "code",
      "source": [
        "from transformers.optimization import AdamW\n",
        "import torch.nn as nn"
      ],
      "metadata": {
        "id": "bCUDvfUFllJq"
      },
      "execution_count": null,
      "outputs": []
    },
    {
      "cell_type": "code",
      "source": [
        "class BasicTransformersClassificationModel(nn.Module):\n",
        "    def __init__(self, model, label_num, learning_rate, device):\n",
        "        super(BasicTransformersClassificationModel, self).__init__()\n",
        "        self.model = model\n",
        "        self.label_num = label_num\n",
        "        self.criterion = nn.BCELoss(reduction=\"mean\")\n",
        "        self.device = device\n",
        "        self.optimizer = AdamW(self.parameters(), lr=learning_rate, weight_decay=0.01)\n",
        "        self.sigmoid = nn.Sigmoid()\n",
        "        self.last_layer = torch.nn.Linear(self.model.config.hidden_size, label_num)\n",
        "\n",
        "    @property\n",
        "    def hidden_size(self):\n",
        "        return self.model.config.hidden_size\n",
        "\n",
        "    def train_batch(self, inp, targ):\n",
        "        self.train()\n",
        "        self.optimizer.zero_grad()\n",
        "        loss = self.compute_loss(inp, targ)\n",
        "        loss[\"loss\"].backward()\n",
        "        self.optimizer.step()\n",
        "        return loss\n",
        "\n",
        "\n",
        "    def compute_loss(self, inp, targ):\n",
        "        targ = targ.to(self.device)\n",
        "        logits = self(inp)\n",
        "        loss = self.criterion(logits, targ)\n",
        "        label = (logits >= 0.5).int()\n",
        "        return {\"loss\": loss, \"labels\": label}\n",
        "\n",
        "    def validate_on_batch(self, inp, targ):\n",
        "        self.eval()\n",
        "        with torch.no_grad():\n",
        "            return self.compute_loss(inp, targ)\n",
        "\n",
        "\n",
        "    def forward(self, inp):\n",
        "        inp = torch.tensor(inp)\n",
        "        if inp.dim() == 1:\n",
        "            inp = inp.unsqueeze(0)\n",
        "        input_ids = inp.to(self.device)\n",
        "\n",
        "\n",
        "        cls_output = self.model(input_ids)[\"pooler_output\"].to(self.device)\n",
        "        output = self.last_layer(cls_output)\n",
        "        logits = self.sigmoid(output)\n",
        "        return logits\n",
        "\n",
        "\n"
      ],
      "metadata": {
        "id": "byXGIOPBllL3"
      },
      "execution_count": null,
      "outputs": []
    },
    {
      "cell_type": "code",
      "source": [
        "model = BasicTransformersClassificationModel(RUBERT, label_num=1, learning_rate=1e-5, device=device).to(device)\n"
      ],
      "metadata": {
        "id": "5LUzFkp1llOV"
      },
      "execution_count": null,
      "outputs": []
    },
    {
      "cell_type": "code",
      "source": [
        "# for name, elem in model.named_parameters():\n",
        "#     print(name, elem.device, elem.shape)"
      ],
      "metadata": {
        "id": "NpbGcmo3llQh"
      },
      "execution_count": null,
      "outputs": []
    },
    {
      "cell_type": "code",
      "source": [
        "for epoch in range(num_epochs):\n",
        "    for batch in train_dataloader:\n",
        "        input_ids = batch[\"input\"].to(device)\n",
        "        targets = batch[\"target\"].unsqueeze(-1).float().to(device)\n",
        "        loss = model.train_batch(input_ids, targets)[\"loss\"].item()\n",
        "    print(epoch, loss)\n",
        "\n",
        "print(model.validate_on_batch(input_ids, targets)[\"loss\"].item())"
      ],
      "metadata": {
        "colab": {
          "base_uri": "https://localhost:8080/"
        },
        "id": "Bo-kzxCf7Ufn",
        "outputId": "d203d8f3-6798-4a58-9429-34ca8766a9a8"
      },
      "execution_count": null,
      "outputs": [
        {
          "output_type": "stream",
          "name": "stderr",
          "text": [
            "<ipython-input-97-45ec3a382c17>:39: UserWarning: To copy construct from a tensor, it is recommended to use sourceTensor.clone().detach() or sourceTensor.clone().detach().requires_grad_(True), rather than torch.tensor(sourceTensor).\n",
            "  inp = torch.tensor(inp)\n"
          ]
        },
        {
          "output_type": "stream",
          "name": "stdout",
          "text": [
            "0 0.0015078316209837794\n",
            "1 0.0006982173654250801\n",
            "2 0.00032578958780504763\n",
            "3 0.0001901125506265089\n",
            "4 0.00022589355648960918\n",
            "5 8.737462485441938e-05\n",
            "6 7.369978266069666e-05\n",
            "7 5.090588456369005e-05\n",
            "8 3.8124311686260626e-05\n",
            "9 2.960700476251077e-05\n",
            "1.9436285583651625e-05\n"
          ]
        }
      ]
    },
    {
      "cell_type": "code",
      "source": [],
      "metadata": {
        "id": "C3qP6X8T7Ul3"
      },
      "execution_count": null,
      "outputs": []
    },
    {
      "cell_type": "code",
      "source": [],
      "metadata": {
        "id": "0rK7vx_DHwHy"
      },
      "execution_count": null,
      "outputs": []
    },
    {
      "cell_type": "code",
      "source": [
        "\n",
        "# def predict_with_model(model, X, classes):\n",
        "#     model.eval()\n",
        "#     dataloader = DataLoader(X, batch_size=8, shuffle=False)\n",
        "#     answer = [None] * len(X)\n",
        "#     for batch in dataloader:\n",
        "#         input_ids = batch[\"input\"].to(model.device)\n",
        "#         with torch.no_grad():\n",
        "#             batch_answer = model(input_ids)\n",
        "#         labels = (batch_answer >= 0.5).int().cpu().numpy()\n",
        "#         for i, label in zip(batch[\"indexes\"], labels):\n",
        "#             answer[i] = classes[label]\n",
        "#     return answer"
      ],
      "metadata": {
        "id": "AFjfEy80HwKt"
      },
      "execution_count": null,
      "outputs": []
    },
    {
      "cell_type": "code",
      "source": [],
      "metadata": {
        "id": "0N8R45emLKEo"
      },
      "execution_count": null,
      "outputs": []
    },
    {
      "cell_type": "code",
      "source": [
        "# line = test_data[19]\n",
        "# line"
      ],
      "metadata": {
        "id": "jKYDxw-1LKLN"
      },
      "execution_count": null,
      "outputs": []
    },
    {
      "cell_type": "code",
      "source": [
        "# tokenized_data = tokenizer(line[\"sentence\"])\n",
        "# token_indexes = tokenized_data[\"input_ids\"]"
      ],
      "metadata": {
        "id": "V-7Gt0O3LQcQ"
      },
      "execution_count": null,
      "outputs": []
    },
    {
      "cell_type": "code",
      "source": [
        "# метод предсказывает класс из тестовой выборки\n",
        "\n",
        "def predict_class(model, index_of_test_sentence):\n",
        "    model.eval()\n",
        "    data = test_data[index_of_test_sentence][\"sentence\"]\n",
        "    tokenized_data = tokenizer(data)\n",
        "    input_ids = tokenized_data[\"input_ids\"]\n",
        "    with torch.no_grad():\n",
        "        batch_answer = model(input_ids)\n",
        "    label = (batch_answer >= 0.5).int().cpu()\n",
        "    return label.item()"
      ],
      "metadata": {
        "id": "tdfqSHvmLQes"
      },
      "execution_count": null,
      "outputs": []
    },
    {
      "cell_type": "code",
      "source": [
        "predict_class(model, 19)"
      ],
      "metadata": {
        "colab": {
          "base_uri": "https://localhost:8080/"
        },
        "id": "DtzfxU06LQhN",
        "outputId": "5896880f-5275-436e-d674-44312019488a"
      },
      "execution_count": null,
      "outputs": [
        {
          "output_type": "execute_result",
          "data": {
            "text/plain": [
              "0"
            ]
          },
          "metadata": {},
          "execution_count": 128
        }
      ]
    },
    {
      "cell_type": "code",
      "source": [
        "# Пример работы"
      ],
      "metadata": {
        "id": "mYNqfL4OL5G4"
      },
      "execution_count": null,
      "outputs": []
    },
    {
      "cell_type": "code",
      "source": [
        "def predict_class_for_random_text(model, text):\n",
        "    model.eval()\n",
        "    data = text\n",
        "    tokenized_data = tokenizer(data)\n",
        "    input_ids = tokenized_data[\"input_ids\"]\n",
        "    with torch.no_grad():\n",
        "        batch_answer = model(input_ids)\n",
        "    label = (batch_answer >= 0.5).int().cpu()\n",
        "    return label.item()"
      ],
      "metadata": {
        "id": "3zNY4GDUL5JL"
      },
      "execution_count": null,
      "outputs": []
    },
    {
      "cell_type": "code",
      "source": [
        "text = \"человек ходить\"\n",
        "text1 = \"человек ходит\"\n",
        "text3 = \"верблюд были горбатым\"\n",
        "text4 = \"верблюд был горбатым\"\n",
        "text5 = \"смеялся возле комики\"\n",
        "text6 = \"смеялся возле комика\"\n",
        "text7 = \"воспитатель который забыли\"\n",
        "text8 = \"воспитатель который забыл\"\n"
      ],
      "metadata": {
        "id": "cBjXVBhzL5Lq"
      },
      "execution_count": null,
      "outputs": []
    },
    {
      "cell_type": "code",
      "source": [
        "predict_class_for_random_text(model, text8)"
      ],
      "metadata": {
        "colab": {
          "base_uri": "https://localhost:8080/"
        },
        "id": "AsXDPKDFSCt_",
        "outputId": "92ea6005-bd5a-49d7-80f6-b780b03d93ab"
      },
      "execution_count": null,
      "outputs": [
        {
          "output_type": "execute_result",
          "data": {
            "text/plain": [
              "1"
            ]
          },
          "metadata": {},
          "execution_count": 188
        }
      ]
    },
    {
      "cell_type": "code",
      "source": [],
      "metadata": {
        "id": "uyxzgYvLSCwc"
      },
      "execution_count": null,
      "outputs": []
    },
    {
      "cell_type": "code",
      "source": [],
      "metadata": {
        "id": "DYzgqgZQSCyT"
      },
      "execution_count": null,
      "outputs": []
    },
    {
      "cell_type": "code",
      "source": [
        "# test_data = make_one_file(paths, MODES[1])\n",
        "# test_dataset = GrammarDataset(test_data)\n",
        "# predicted = predict_with_model(model, test_dataset, classes=[0, 1])"
      ],
      "metadata": {
        "id": "3qgSYSeVIFkA"
      },
      "execution_count": null,
      "outputs": []
    },
    {
      "cell_type": "code",
      "source": [
        "test_data[0]"
      ],
      "metadata": {
        "colab": {
          "base_uri": "https://localhost:8080/"
        },
        "id": "RUmDIDycK0Us",
        "outputId": "dc565080-41c0-44e3-ca68-0ef38645e55a"
      },
      "execution_count": null,
      "outputs": [
        {
          "output_type": "execute_result",
          "data": {
            "text/plain": [
              "{'sentence': 'рассказ от секретаря был новым', 'idx': 1, 'label': 'pp_inan'}"
            ]
          },
          "metadata": {},
          "execution_count": 66
        }
      ]
    }
  ]
}