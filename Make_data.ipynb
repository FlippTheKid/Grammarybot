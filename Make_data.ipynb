{
  "cells": [
    {
      "cell_type": "code",
      "execution_count": 1,
      "metadata": {
        "id": "7YfF8vD_Ar0D"
      },
      "outputs": [],
      "source": [
        "# Одушевленные существительные + соответствующие им глаголы\n",
        "subj_anim = [\"писатель\", \"писатели\", \"пилот\", \"пилоты\",\n",
        "             \"фермер\", \"фермеры\", \"руководитель\", \"руководители\",\n",
        "            \"покупатель\", \"покупатели\", \"командир\", \"командиры\",\n",
        "            \"преподаватель\", \"преподаватели\", \"чиновник\", \"чиновники\",\n",
        "            \"студент\", \"студенты\"]\n",
        "predicate_intr_anim = [\"рассуждал\", \"рассуждали\", \"пел\", \"пели\", \"был высоким\", \"были высокими\",\n",
        "             \"был пожилым\", \"были пожилыми\", \"размышлял\", \"размышляли\",\n",
        "            \"был низким\", \"были низкими\", \"был молодым\", \"были молодыми\",\"обедал\", \"обедали\",]"
      ]
    },
    {
      "cell_type": "code",
      "execution_count": 2,
      "metadata": {
        "id": "goNb7FONAr0E"
      },
      "outputs": [],
      "source": [
        "# Неодушевленные существительные + соответствующие им глаголы\n",
        "subj_inan = [\"фильм\", \"фильмы\", \"журнал\", \"журналы\", \"сериал\", \"сериалы\", \"чертеж\", \"чертежи\",\n",
        "             \"учебник\", \"учебники\", \"рисунок\", \"рисунки\", \"роман\", \"романы\", \"рассказ\", \"рассказы\",\n",
        "             \"спектакль\", \"спектакли\"]\n",
        "predicate_intr_inan = [\"восхищал\", \"восхищали\", \"увлекал\", \"увлекали\", \"был хорошим\",\"были хорошими\",\n",
        "                       \"был известным\", \"были известными\",\n",
        "                       \"был плохим\", \"были плохими\", \"расстраивал\", \"расстраивали\",\n",
        "                        \"был новым\", \"были новыми\", \"веселил\", \"веселили\"]"
      ]
    },
    {
      "cell_type": "code",
      "execution_count": 3,
      "metadata": {
        "id": "feJGAZIFAr0F"
      },
      "outputs": [],
      "source": [
        "# Одушевленные объекты + соответствующие им глаголы\n",
        "obj_anim = [\"охранника\", \"охранников\", \"ассистента\", \"ассистентов\", \"архитектора\", \"архитекторов\",\n",
        "            \"фигуриста\", \"фигуристов\", \"танцора\", \"танцоров\", \"министра\", \"министров\", \"водителя\", \"водителей\",\n",
        "            \"секретаря\", \"секретарей\", \"офицера\", \"офицеров\"]\n",
        "predicate_tr = [\"знал\", \"знали\", \"ненавидел\", \"ненавидели\", \"недолюбливал\", \"недолюбливали\",\n",
        "                \"презирал\", \"презирали\", \"ценил\", \"ценили\", \"обожал\", \"обожали\", \"игнорировал\", \"игнорировали\"]"
      ]
    },
    {
      "cell_type": "code",
      "execution_count": 4,
      "metadata": {
        "id": "akek8fYXAr0F"
      },
      "outputs": [],
      "source": [
        "# Одушевленные + глаголы в прошедшем времени\n",
        "matrix_clause = [\"механик говорил\", \"механики говорили\", \"банкир говорил\", \"банкиры говорили\",\n",
        "                 \"механик предполагал\", \"механики предполагали\", \"банкир предполагал\", \"банкиры предполагали\",\n",
        "                 \"механик думал\", \"механики думали\", \"банкир думал\", \"банкиры думали\",\n",
        "                 \"механик знал\", \"механики знали\", \"банкир знал\", \"банкиры знали\"]"
      ]
    },
    {
      "cell_type": "code",
      "execution_count": 5,
      "metadata": {
        "id": "h-XzstPcAr0F"
      },
      "outputs": [],
      "source": [
        "# С предлогами для одушевленных (местоположение)\n",
        "pp_anim = [\"возле охранника\", \"возле охранников\", \"возле ассистента\", \"возле ассистентов\",\n",
        "          \"возле архитектора\", \"возле архитекторов\", \"возле фигуриста\", \"возле фигуристов\",\n",
        "           \"возле танцора\", \"возле танцоров\",\n",
        "          \"вблизи министра\", \"вблизи министров\", \"вблизи водителя\", \"вблизи водителей\",\n",
        "          \"около секретаря\", \"около секретарей\", \"около офицера\", \"около офицеров\"]"
      ]
    },
    {
      "cell_type": "code",
      "execution_count": 6,
      "metadata": {
        "id": "nd6vTgTgAr0F"
      },
      "outputs": [],
      "source": [
        "# С предлогами для одушевленных (назначение, отсутствие)\n",
        "pp_inan = [\"для охранника\", \"для охранников\", \"для ассистента\", \"для ассистентов\",\n",
        "           \"для архитектора\", \"для архитекторов\",\"для фигуриста\", \"для фигуристов\",\n",
        "           \"для танцора\", \"для танцоров\",\n",
        "           \"без министра\", \"без министров\", \"без водителя\", \"без водителей\",\n",
        "          \"от секретаря\", \"от секретарей\", \"от офицера\", \"от офицеров\"]"
      ]
    },
    {
      "cell_type": "code",
      "execution_count": 7,
      "metadata": {
        "id": "cmf_xd6yAr0F"
      },
      "outputs": [],
      "source": [
        "# Список относительных предложений, которые связывают субъектов с их действиями или состоянием\n",
        "subj_rel = [\"писатель который знал\", \"писатели которые знали\",\n",
        "            \"писатель который ненавидел\", \"писатели которые ненавидели\",\n",
        "            \"писатель который недолюбливал\", \"писатели которые недолюбливали\",\n",
        "            \"пилот который знал\", \"пилоты которые знали\",\n",
        "            \"пилот который ненавидел\", \"пилоты которые ненавидели\",\n",
        "            \"пилот который недолюбливал\", \"пилоты которые недолюбливали\",\n",
        "            \"фермер который знал\", \"фермеры которые знали\",\n",
        "            \"фермер который ненавидел\", \"фермеры которые ненавидели\",\n",
        "            \"фермер который недолюбливал\", \"фермеры которые недолюбливали\",\n",
        "            \"руководитель который знал\", \"руководители которые знали\",\n",
        "            \"руководитель который ненавидел\", \"руководители которые ненавидели\",\n",
        "            \"руководитель который недолюбливал\", \"руководители которые недолюбливали\",\n",
        "            \"покупатель который знал\", \"покупатели которые знали\",\n",
        "            \"покупатель который ненавидел\", \"покупатели которые ненавидели\",\n",
        "            \"покупатель который недолюбливал\", \"покупатели которые недолюбливали\",\n",
        "\n",
        "            \"командир который презирал\", \"командиры которые презирали\",\n",
        "            \"командир который ценил\", \"командиры которые ценили\",\n",
        "            \"преподаватель который презирал\", \"преподаватели которые презирали\",\n",
        "            \"преподаватель который ценил\", \"преподаватели которые ценили\",\n",
        "\n",
        "            \"чиновник который обожал\", \"чиновники которые обожали\",\n",
        "            \"чиновник который игнорировал\", \"чиновники которые игнорировали\",\n",
        "            \"студент который обожал\", \"студенты которые обожали\",\n",
        "            \"студент который игнорировал\", \"студенты которые игнорировали\"]"
      ]
    },
    {
      "cell_type": "code",
      "execution_count": 8,
      "metadata": {
        "id": "pPEpHHa6Ar0F"
      },
      "outputs": [],
      "source": [
        "# Список предложений, в которых указаны действия одушевленных субъектов\n",
        "sent_rel = [\"знал охранник\", \"знали охранники\",\n",
        "           \"знал ассистент\", \"знали ассистенты\",\n",
        "           \"знал архитектор\", \"знали архитекторы\",\n",
        "           \"знал фигурист\", \"знали фигуристы\",\n",
        "           \"знал танцор\", \"знали танцоры\",\n",
        "           \"ненавидел охранник\", \"ненавидели охранники\",\n",
        "           \"ненавидел ассистент\", \"ненавидели ассистенты\",\n",
        "           \"ненавидел архитектор\", \"ненавидели архитекторы\",\n",
        "           \"ненавидел фигурист\", \"ненавидели фигуристы\",\n",
        "           \"ненавидел танцор\", \"ненавидели танцоры\",\n",
        "           \"недолюбливал охранник\", \"недолюбливали охранники\",\n",
        "           \"недолюбливал ассистент\", \"недолюбливали ассистенты\",\n",
        "           \"недолюбливал архитектор\", \"недолюбливали архитекторы\",\n",
        "           \"недолюбливал фигурист\", \"недолюбливали фигуристы\",\n",
        "           \"недолюбливал танцор\", \"недолюбливали танцоры\",\n",
        "\n",
        "           \"презирал министр\", \"презирали министры\",\n",
        "           \"презирал водитель\", \"презирали водители\",\n",
        "           \"ценил министр\", \"ценили министры\",\n",
        "           \"ценил водитель\", \"ценили водители\",\n",
        "\n",
        "            \"обожал секретарь\", \"обожали секретари\",\n",
        "            \"обожал офицер\", \"обожали офицеры\",\n",
        "            \"игнорировал секретарь\", \"игнорировали секретари\",\n",
        "            \"игнорировал офицер\", \"игнорировали офицеры\"]"
      ]
    },
    {
      "cell_type": "code",
      "execution_count": 9,
      "metadata": {
        "id": "IZjzTX8GAr0G"
      },
      "outputs": [],
      "source": [
        "# Список относительных объектов, связанных с одушевленными существительными\n",
        "obj_rel_anim = [\"писатель которого\", \"писатели которых\",\n",
        "            \"пилот которого\", \"пилоты которых\",\n",
        "            \"фермер которого\", \"фермеры которых\",\n",
        "            \"руководитель которого\", \"руководители которых\",\n",
        "            \"покупатель которого\", \"покупатели которых\",\n",
        "            \"командир которого\", \"командиры которых\",\n",
        "            \"преподаватель которого\", \"преподаватели которых\",\n",
        "            \"чиновник которого\", \"чиновники которых\",\n",
        "            \"студент которого\", \"студенты которых\"]\n",
        "\n",
        "# Список относительных объектов, связанных с неодушевленными существительными\n",
        "obj_rel_inan = [\"фильм который\", \"фильмы которые\",\n",
        "               \"журнал который\", \"журналы которые\",\n",
        "                \"сериал который\", \"сериалы которые\",\n",
        "                \"чертеж который\", \"чертежи которые\",\n",
        "                \"учебник который\", \"учебники которые\",\n",
        "                \"рисунок который\", \"рисунки которые\",\n",
        "                \"роман который\", \"романы которые\",\n",
        "                \"рассказ который\", \"рассказы которые\",\n",
        "                \"спектакль который\", \"спектакли которые\"]"
      ]
    },
    {
      "cell_type": "code",
      "source": [
        "import json\n",
        "import os"
      ],
      "metadata": {
        "id": "epfytnlmW57O"
      },
      "execution_count": 10,
      "outputs": []
    },
    {
      "cell_type": "code",
      "source": [
        "MODES = ['train', 'val', 'test']"
      ],
      "metadata": {
        "id": "emr49haZTKvg"
      },
      "execution_count": 11,
      "outputs": []
    },
    {
      "cell_type": "code",
      "execution_count": 12,
      "metadata": {
        "id": "-15yP-gIAr0G"
      },
      "outputs": [],
      "source": [
        "def sentences_noun_verb (mode, subj, predicate, label):\n",
        "    if mode == \"train\":\n",
        "        subj = subj[:10]\n",
        "        predicate = predicate[:8]\n",
        "\n",
        "    elif mode == \"val\":\n",
        "        subj = subj[10:14]\n",
        "        predicate = predicate[8:12]\n",
        "    elif mode == \"test\":\n",
        "        subj = subj[14:]\n",
        "        predicate = predicate[12:]\n",
        "    sentences_noun_verb = []\n",
        "    sentence = ''\n",
        "    score = 0\n",
        "    for noun in subj:\n",
        "        score +=1\n",
        "        for verb in predicate:\n",
        "            sentence = '{\"sentence\": \"' + noun + ' ' + verb + '\", \"idx\": ' + str(score%2) + ', \"label\": \"' + label + '\"}'\n",
        "            sentences_noun_verb.append(sentence)\n",
        "            sentence = ''\n",
        "            score +=1\n",
        "\n",
        "    with open(f'noun_verb{mode}.json', 'w') as f:\n",
        "        json.dump(sentences_noun_verb, f)\n",
        "    file_path = os.path.join('/content', f'noun_verb{mode}.json')\n",
        "    return file_path"
      ]
    },
    {
      "cell_type": "code",
      "execution_count": 13,
      "metadata": {
        "id": "dERGl-zBAr0G"
      },
      "outputs": [],
      "source": [
        "def sentences_noun_verb_noun (mode, subj, predicate, obj, order, label):\n",
        "    if mode == \"train\":\n",
        "        subj = subj[:10]\n",
        "        obj = obj[:10]\n",
        "        predicate = predicate[:6]\n",
        "    elif mode == \"val\":\n",
        "        subj = subj[10:14]\n",
        "        obj = obj[10:14]\n",
        "        predicate = predicate[6:10]\n",
        "    elif mode == \"test\":\n",
        "        subj = subj[14:]\n",
        "        obj = obj[14:]\n",
        "        predicate = predicate[10:]\n",
        "    sentences_noun_verb_noun = []\n",
        "    sentence = ''\n",
        "    score = 0\n",
        "    for noun_1 in subj:\n",
        "        score +=1\n",
        "        for noun_2 in obj:\n",
        "            for verb in predicate:\n",
        "                if order == \"direct\":\n",
        "                    sentence = '{\"sentence\": \"' + noun_1 + ' ' + verb + ' ' + noun_2 + '\", \"idx\": ' + str(score%2) + ', \"label\": \"' + label + '\"}'\n",
        "                elif order == \"reverse\":\n",
        "                    sentence = '{\"sentence\": \"' + noun_2 + ' ' + verb + ' ' + noun_1 + '\", \"idx\": ' + str(score%2) + ', \"label\": \"' + label + '\"}'\n",
        "                sentences_noun_verb_noun.append(sentence)\n",
        "                score +=1\n",
        "\n",
        "    with open(f'noun_verb_noun{mode}.json', 'w') as f:\n",
        "        json.dump(sentences_noun_verb_noun, f)\n",
        "    file_path = os.path.join('/content', f'noun_verb_noun{mode}.json')\n",
        "    return file_path"
      ]
    },
    {
      "cell_type": "code",
      "execution_count": 15,
      "metadata": {
        "id": "XlnBljueAr0G"
      },
      "outputs": [],
      "source": [
        "def sentences_with_chto (mode, subj, predicate, matrix, label):\n",
        "    if mode == \"train\":\n",
        "        subj = subj[:10]\n",
        "        predicate = predicate[:8]\n",
        "        matrix = matrix[:8]\n",
        "    elif mode == \"val\":\n",
        "        subj = subj[10:14]\n",
        "        predicate = predicate[8:12]\n",
        "        matrix = matrix[8:12]\n",
        "    elif mode == \"test\":\n",
        "        subj = subj[14:]\n",
        "        predicate = predicate[12:]\n",
        "        matrix = matrix[12:]\n",
        "    sentences_with_chto = []\n",
        "    sentence = ''\n",
        "    score = 0\n",
        "    for clause in matrix:\n",
        "        for noun in subj:\n",
        "            score +=1\n",
        "            for verb in predicate:\n",
        "                sentence = '{\"sentence\": \"' + clause + ' что ' + noun + ' ' + verb + '\", \"idx\": ' + str(score%2) + ', \"label\": \"' + label + '\"}'\n",
        "                sentences_with_chto.append(sentence)\n",
        "                sentence = ''\n",
        "                score +=1\n",
        "\n",
        "    with open(f'with_chto{mode}.json', 'w') as f:\n",
        "        json.dump(sentences_with_chto, f)\n",
        "    file_path = os.path.join('/content', f'with_chto{mode}.json')\n",
        "    return file_path"
      ]
    },
    {
      "cell_type": "code",
      "execution_count": 16,
      "metadata": {
        "id": "05FRXQzaAr0G"
      },
      "outputs": [],
      "source": [
        "def sentences_with_pp (mode, subj, predicate, pp, label):\n",
        "    if mode == \"train\":\n",
        "        subj = subj[:10]\n",
        "        predicate = predicate[:8]\n",
        "        pp = pp[:10]\n",
        "    elif mode == \"val\":\n",
        "        subj = subj[10:14]\n",
        "        predicate = predicate[8:12]\n",
        "        pp = pp[10:14]\n",
        "    elif mode == \"test\":\n",
        "        subj = subj[14:]\n",
        "        predicate = predicate[12:]\n",
        "        pp = pp[14:]\n",
        "    sentences_with_pp = []\n",
        "    sentence = ''\n",
        "    score = 0\n",
        "    for phrase in pp:\n",
        "        for noun in subj:\n",
        "            score +=1\n",
        "            for verb in predicate:\n",
        "                sentence = '{\"sentence\": \"' + noun + ' ' + phrase + ' ' + verb + '\", \"idx\": ' + str(score%2) + ', \"label\": \"' + label + '\"}'\n",
        "                sentences_with_pp.append(sentence)\n",
        "                sentence = ''\n",
        "                score +=1\n",
        "\n",
        "    with open(f'with_pp{mode}.json', 'w') as f:\n",
        "        json.dump(sentences_with_pp, f)\n",
        "    file_path = os.path.join('/content', f'with_pp{mode}.json')\n",
        "    return file_path"
      ]
    },
    {
      "cell_type": "code",
      "execution_count": 17,
      "metadata": {
        "id": "fh19NzdzAr0G"
      },
      "outputs": [],
      "source": [
        "def sentences_subj_rel (mode, subj, predicate, rel, label):\n",
        "    if mode == \"train\":\n",
        "        subj = subj[:30]\n",
        "        predicate = predicate[:8]\n",
        "        rel = rel[:10]\n",
        "    elif mode == \"val\":\n",
        "        subj = subj[30:38]\n",
        "        predicate = predicate[8:12]\n",
        "        rel = rel[10:14]\n",
        "    elif mode == \"test\":\n",
        "        subj = subj[38:]\n",
        "        predicate = predicate[12:]\n",
        "        rel = rel[14:]\n",
        "    sentences_subj_rel = []\n",
        "    sentence = ''\n",
        "    score = 0\n",
        "    for obj in rel:\n",
        "        for noun in subj:\n",
        "            score +=1\n",
        "            for verb in predicate:\n",
        "                sentence = '{\"sentence\": \"' + noun + ' ' + obj + ' ' + verb + '\", \"idx\": ' + str(score%2) + ', \"label\": \"' + label + '\"}'\n",
        "                sentences_subj_rel.append(sentence)\n",
        "                sentence = ''\n",
        "                score +=1\n",
        "\n",
        "    with open(f'subj_rel{mode}.json', 'w') as f:\n",
        "        json.dump(sentences_subj_rel, f)\n",
        "    file_path = os.path.join('/content', f'subj_rel{mode}.json')\n",
        "    return file_path"
      ]
    },
    {
      "cell_type": "code",
      "execution_count": 18,
      "metadata": {
        "id": "M088UDGbAr0G"
      },
      "outputs": [],
      "source": [
        "def sentences_obj_rel (mode, subj, predicate, rel, label):\n",
        "    if mode == \"train\":\n",
        "        subj = subj[:10]\n",
        "        predicate = predicate[:8]\n",
        "        rel = rel[:30]\n",
        "    elif mode == \"val\":\n",
        "        subj = subj[10:14]\n",
        "        predicate = predicate[8:12]\n",
        "        rel = rel[30:38]\n",
        "    elif mode == \"test\":\n",
        "        subj = subj[14:]\n",
        "        predicate = predicate[12:]\n",
        "        rel = rel[38:]\n",
        "    sentences_obj_rel = []\n",
        "    sentence = ''\n",
        "    score = 0\n",
        "    for obj in rel:\n",
        "        for noun in subj:\n",
        "            score +=1\n",
        "            for verb in predicate:\n",
        "                sentence = '{\"sentence\": \"' + noun + ' ' + obj + ' ' + verb + '\", \"idx\": ' + str(score%2) + ', \"label\": \"' + label + '\"}'\n",
        "                sentences_obj_rel.append(sentence)\n",
        "                sentence = ''\n",
        "                score +=1\n",
        "\n",
        "\n",
        "    with open(f'obj_rel{mode}.json', 'w') as f:\n",
        "        json.dump(sentences_obj_rel, f)\n",
        "    file_path = os.path.join('/content', f'obj_rel{mode}.json')\n",
        "    return file_path"
      ]
    },
    {
      "cell_type": "code",
      "source": [
        "import zipfile"
      ],
      "metadata": {
        "id": "tpOS0sJgj69r"
      },
      "execution_count": 19,
      "outputs": []
    },
    {
      "cell_type": "code",
      "source": [
        "zip_filename = 'my_archive.zip'\n",
        "with zipfile.ZipFile(zip_filename, 'w') as zipf:\n",
        "\n",
        "  for mode in MODES:\n",
        "    path0 = sentences_noun_verb(mode, subj_anim, predicate_intr_anim, \"anim\")\n",
        "    path1 = sentences_noun_verb_noun(mode, subj_anim, predicate_tr, obj_anim, \"direct\", \"tr_direct_anim\")\n",
        "    path2 = sentences_noun_verb_noun(mode, subj_anim, predicate_tr, subj_inan, \"direct\", \"tr_direct_inan\")\n",
        "    path3 = sentences_noun_verb_noun(mode, subj_anim, predicate_tr, obj_anim, \"reverse\", \"tr_reverse_anim\")\n",
        "    path4 = sentences_noun_verb_noun(mode, subj_anim, predicate_tr, subj_inan, \"reverse\", \"tr_reverse_inan\")\n",
        "\n",
        "    path5 = sentences_with_chto(mode, subj_anim, predicate_intr_anim, matrix_clause, \"with_chto\")\n",
        "    path6 = sentences_with_chto(mode, subj_anim, predicate_intr_inan, matrix_clause, \"with_chto\")\n",
        "\n",
        "    path7 = sentences_with_pp(mode, subj_anim, predicate_intr_anim, pp_anim, \"pp_anim\")\n",
        "    path8 = sentences_with_pp(mode, subj_inan, predicate_intr_inan, pp_inan, \"pp_inan\")\n",
        "\n",
        "    path9 = sentences_subj_rel(mode, subj_rel, predicate_intr_anim, obj_anim, \"subj_rel_anim\")\n",
        "    path10 = sentences_subj_rel(mode, subj_rel, predicate_intr_anim, subj_inan, \"subj_rel_inan\")\n",
        "\n",
        "    path11 = sentences_obj_rel(mode, obj_rel_anim, predicate_intr_anim, sent_rel, \"obj_rel_anim\")\n",
        "    path12 = sentences_obj_rel(mode, obj_rel_inan, predicate_intr_inan, sent_rel, \"obj_rel_inan\")\n",
        "\n",
        "\n",
        "\n",
        "    zipf.write(path0, os.path.join(mode, os.path.basename(path0)))\n",
        "    zipf.write(path1, os.path.join(mode, os.path.basename(path1)))\n",
        "    zipf.write(path2, os.path.join(mode, os.path.basename(path2)))\n",
        "    zipf.write(path3, os.path.join(mode, os.path.basename(path3)))\n",
        "    zipf.write(path4, os.path.join(mode, os.path.basename(path4)))\n",
        "    zipf.write(path5, os.path.join(mode, os.path.basename(path5)))\n",
        "    zipf.write(path6, os.path.join(mode, os.path.basename(path6)))\n",
        "    zipf.write(path7, os.path.join(mode, os.path.basename(path7)))\n",
        "    zipf.write(path8, os.path.join(mode, os.path.basename(path8)))\n",
        "    zipf.write(path9, os.path.join(mode, os.path.basename(path9)))\n",
        "    zipf.write(path10, os.path.join(mode, os.path.basename(path10)))\n",
        "    zipf.write(path11, os.path.join(mode, os.path.basename(path11)))\n",
        "    zipf.write(path12, os.path.join(mode, os.path.basename(path12)))\n"
      ],
      "metadata": {
        "colab": {
          "base_uri": "https://localhost:8080/"
        },
        "id": "1J9C-JfDj7AJ",
        "outputId": "e67b2e17-82ac-4d71-e910-ff4aee1c6093"
      },
      "execution_count": 20,
      "outputs": [
        {
          "output_type": "stream",
          "name": "stderr",
          "text": [
            "/usr/lib/python3.11/zipfile.py:1567: UserWarning: Duplicate name: 'train/noun_verb_nountrain.json'\n",
            "  return self._open_to_write(zinfo, force_zip64=force_zip64)\n",
            "/usr/lib/python3.11/zipfile.py:1567: UserWarning: Duplicate name: 'train/with_chtotrain.json'\n",
            "  return self._open_to_write(zinfo, force_zip64=force_zip64)\n",
            "/usr/lib/python3.11/zipfile.py:1567: UserWarning: Duplicate name: 'train/with_pptrain.json'\n",
            "  return self._open_to_write(zinfo, force_zip64=force_zip64)\n",
            "/usr/lib/python3.11/zipfile.py:1567: UserWarning: Duplicate name: 'train/subj_reltrain.json'\n",
            "  return self._open_to_write(zinfo, force_zip64=force_zip64)\n",
            "/usr/lib/python3.11/zipfile.py:1567: UserWarning: Duplicate name: 'train/obj_reltrain.json'\n",
            "  return self._open_to_write(zinfo, force_zip64=force_zip64)\n",
            "/usr/lib/python3.11/zipfile.py:1567: UserWarning: Duplicate name: 'val/noun_verb_nounval.json'\n",
            "  return self._open_to_write(zinfo, force_zip64=force_zip64)\n",
            "/usr/lib/python3.11/zipfile.py:1567: UserWarning: Duplicate name: 'val/with_chtoval.json'\n",
            "  return self._open_to_write(zinfo, force_zip64=force_zip64)\n",
            "/usr/lib/python3.11/zipfile.py:1567: UserWarning: Duplicate name: 'val/with_ppval.json'\n",
            "  return self._open_to_write(zinfo, force_zip64=force_zip64)\n",
            "/usr/lib/python3.11/zipfile.py:1567: UserWarning: Duplicate name: 'val/subj_relval.json'\n",
            "  return self._open_to_write(zinfo, force_zip64=force_zip64)\n",
            "/usr/lib/python3.11/zipfile.py:1567: UserWarning: Duplicate name: 'val/obj_relval.json'\n",
            "  return self._open_to_write(zinfo, force_zip64=force_zip64)\n",
            "/usr/lib/python3.11/zipfile.py:1567: UserWarning: Duplicate name: 'test/noun_verb_nountest.json'\n",
            "  return self._open_to_write(zinfo, force_zip64=force_zip64)\n",
            "/usr/lib/python3.11/zipfile.py:1567: UserWarning: Duplicate name: 'test/with_chtotest.json'\n",
            "  return self._open_to_write(zinfo, force_zip64=force_zip64)\n",
            "/usr/lib/python3.11/zipfile.py:1567: UserWarning: Duplicate name: 'test/with_pptest.json'\n",
            "  return self._open_to_write(zinfo, force_zip64=force_zip64)\n",
            "/usr/lib/python3.11/zipfile.py:1567: UserWarning: Duplicate name: 'test/subj_reltest.json'\n",
            "  return self._open_to_write(zinfo, force_zip64=force_zip64)\n",
            "/usr/lib/python3.11/zipfile.py:1567: UserWarning: Duplicate name: 'test/obj_reltest.json'\n",
            "  return self._open_to_write(zinfo, force_zip64=force_zip64)\n"
          ]
        }
      ]
    }
  ],
  "metadata": {
    "kernelspec": {
      "display_name": "Python 3",
      "name": "python3"
    },
    "language_info": {
      "codemirror_mode": {
        "name": "ipython",
        "version": 3
      },
      "file_extension": ".py",
      "mimetype": "text/x-python",
      "name": "python",
      "nbconvert_exporter": "python",
      "pygments_lexer": "ipython3",
      "version": "3.7.3"
    },
    "colab": {
      "provenance": []
    }
  },
  "nbformat": 4,
  "nbformat_minor": 0
}